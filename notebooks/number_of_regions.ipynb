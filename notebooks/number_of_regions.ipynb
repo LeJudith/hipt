{
 "cells": [
  {
   "cell_type": "markdown",
   "id": "c5f9d33a-c4e1-4984-8a01-8ebb4402c96a",
   "metadata": {},
   "source": [
    "# Get average number of patches per slide"
   ]
  },
  {
   "cell_type": "code",
   "execution_count": 23,
   "id": "63663596-c1f0-4854-8895-b98786469390",
   "metadata": {},
   "outputs": [],
   "source": [
    "import os\n",
    "import h5py\n",
    "import tqdm\n",
    "import numpy as np\n",
    "import pandas as pd\n",
    "\n",
    "from pathlib import Path\n",
    "from collections import defaultdict"
   ]
  },
  {
   "cell_type": "code",
   "execution_count": 24,
   "id": "1ded8049-264b-4ede-89d4-b733e280066d",
   "metadata": {},
   "outputs": [],
   "source": [
    "os.chdir('/data/pathology/projects/ais-cap/code/git/clemsgrs/hipt')"
   ]
  },
  {
   "cell_type": "code",
   "execution_count": 25,
   "id": "a0b243f4-bfb8-4b58-b5d5-6877dc702a0d",
   "metadata": {},
   "outputs": [],
   "source": [
    "root_dir = Path('/data/pathology/projects/ais-cap/code/git/clemsgrs/hs2p')"
   ]
  },
  {
   "cell_type": "code",
   "execution_count": 26,
   "id": "31524c55-adeb-4424-b0bc-dcf8c5919639",
   "metadata": {},
   "outputs": [],
   "source": [
    "dataset_name = 'tcga_brca'\n",
    "experiment_name = 'otsu_spacing'\n",
    "patch_dir = Path(root_dir, 'output', dataset_name, experiment_name, 'patches')"
   ]
  },
  {
   "cell_type": "code",
   "execution_count": 27,
   "id": "8040b215-511d-40fc-bcc4-30056611a2ea",
   "metadata": {},
   "outputs": [],
   "source": [
    "patch_size = 4096"
   ]
  },
  {
   "cell_type": "code",
   "execution_count": 28,
   "id": "d4a9a65f-3b7b-4d73-9542-a0c7a83e3cbb",
   "metadata": {},
   "outputs": [
    {
     "data": {
      "text/plain": [
       "875"
      ]
     },
     "execution_count": 28,
     "metadata": {},
     "output_type": "execute_result"
    }
   ],
   "source": [
    "slide_patches = [s for s in patch_dir.iterdir()]\n",
    "len(slide_patches)"
   ]
  },
  {
   "cell_type": "code",
   "execution_count": 29,
   "id": "9a1ae6d2-3392-410e-97a7-497fecaaeff2",
   "metadata": {},
   "outputs": [],
   "source": [
    "data = defaultdict(list)\n",
    "for d in slide_patches:\n",
    "    slide_dir = Path(d, str(patch_size))\n",
    "    slide_id = d.name\n",
    "    h5py_fp = Path(slide_dir, f'{slide_id}.h5')\n",
    "    p = h5py.File(h5py_fp, 'r')['coords']\n",
    "    m = len(p)\n",
    "    data['slide_id'].append(slide_id)\n",
    "    data['M'].append(m)"
   ]
  },
  {
   "cell_type": "code",
   "execution_count": 30,
   "id": "ae8963bc-e520-4123-994c-8144ce601fb7",
   "metadata": {},
   "outputs": [
    {
     "data": {
      "text/html": [
       "<div>\n",
       "<style scoped>\n",
       "    .dataframe tbody tr th:only-of-type {\n",
       "        vertical-align: middle;\n",
       "    }\n",
       "\n",
       "    .dataframe tbody tr th {\n",
       "        vertical-align: top;\n",
       "    }\n",
       "\n",
       "    .dataframe thead th {\n",
       "        text-align: right;\n",
       "    }\n",
       "</style>\n",
       "<table border=\"1\" class=\"dataframe\">\n",
       "  <thead>\n",
       "    <tr style=\"text-align: right;\">\n",
       "      <th></th>\n",
       "      <th>slide_id</th>\n",
       "      <th>M</th>\n",
       "    </tr>\n",
       "  </thead>\n",
       "  <tbody>\n",
       "    <tr>\n",
       "      <th>0</th>\n",
       "      <td>TCGA-A2-A0CQ-01Z-00-DX1.4E5FB4E5-A08C-4C87-A3B...</td>\n",
       "      <td>29</td>\n",
       "    </tr>\n",
       "    <tr>\n",
       "      <th>1</th>\n",
       "      <td>TCGA-W8-A86G-01Z-00-DX2.DEC2CC1C-3662-43C6-A5C...</td>\n",
       "      <td>32</td>\n",
       "    </tr>\n",
       "    <tr>\n",
       "      <th>2</th>\n",
       "      <td>TCGA-A2-A0SY-01Z-00-DX1.279A5479-E183-4F79-AF4...</td>\n",
       "      <td>109</td>\n",
       "    </tr>\n",
       "    <tr>\n",
       "      <th>3</th>\n",
       "      <td>TCGA-A2-A4S2-01Z-00-DX1.D779B63B-8817-43F1-A8F...</td>\n",
       "      <td>60</td>\n",
       "    </tr>\n",
       "    <tr>\n",
       "      <th>4</th>\n",
       "      <td>TCGA-E2-A1B5-01Z-00-DX1.AB19FF3D-5C42-4D49-ABE...</td>\n",
       "      <td>69</td>\n",
       "    </tr>\n",
       "  </tbody>\n",
       "</table>\n",
       "</div>"
      ],
      "text/plain": [
       "                                            slide_id    M\n",
       "0  TCGA-A2-A0CQ-01Z-00-DX1.4E5FB4E5-A08C-4C87-A3B...   29\n",
       "1  TCGA-W8-A86G-01Z-00-DX2.DEC2CC1C-3662-43C6-A5C...   32\n",
       "2  TCGA-A2-A0SY-01Z-00-DX1.279A5479-E183-4F79-AF4...  109\n",
       "3  TCGA-A2-A4S2-01Z-00-DX1.D779B63B-8817-43F1-A8F...   60\n",
       "4  TCGA-E2-A1B5-01Z-00-DX1.AB19FF3D-5C42-4D49-ABE...   69"
      ]
     },
     "execution_count": 30,
     "metadata": {},
     "output_type": "execute_result"
    }
   ],
   "source": [
    "M_df = pd.DataFrame.from_dict(data)\n",
    "M_df.head()"
   ]
  },
  {
   "cell_type": "code",
   "execution_count": 31,
   "id": "e16265af-e360-4e6e-b0d0-3e01fb63cef6",
   "metadata": {},
   "outputs": [
    {
     "data": {
      "text/plain": [
       "52.093714285714285"
      ]
     },
     "execution_count": 31,
     "metadata": {},
     "output_type": "execute_result"
    }
   ],
   "source": [
    "M_df.M.mean()"
   ]
  },
  {
   "cell_type": "code",
   "execution_count": 32,
   "id": "1d9ba3ba-8557-4839-8373-f1b91a9a564b",
   "metadata": {},
   "outputs": [
    {
     "data": {
      "text/plain": [
       "(4, 177)"
      ]
     },
     "execution_count": 32,
     "metadata": {},
     "output_type": "execute_result"
    }
   ],
   "source": [
    "M_df.M.min(), M_df.M.max()"
   ]
  },
  {
   "cell_type": "code",
   "execution_count": 12,
   "id": "7efc00fa-6231-4977-92ac-1def98aea175",
   "metadata": {},
   "outputs": [],
   "source": [
    "import pandas as pd\n",
    "import seaborn as sns\n",
    "import matplotlib.pyplot as plt"
   ]
  },
  {
   "cell_type": "code",
   "execution_count": 13,
   "id": "17608b9e-d9b3-4ae8-8214-234f0ba37374",
   "metadata": {},
   "outputs": [
    {
     "data": {
      "text/html": [
       "<div>\n",
       "<style scoped>\n",
       "    .dataframe tbody tr th:only-of-type {\n",
       "        vertical-align: middle;\n",
       "    }\n",
       "\n",
       "    .dataframe tbody tr th {\n",
       "        vertical-align: top;\n",
       "    }\n",
       "\n",
       "    .dataframe thead th {\n",
       "        text-align: right;\n",
       "    }\n",
       "</style>\n",
       "<table border=\"1\" class=\"dataframe\">\n",
       "  <thead>\n",
       "    <tr style=\"text-align: right;\">\n",
       "      <th></th>\n",
       "      <th>avg_M</th>\n",
       "      <th>partition</th>\n",
       "    </tr>\n",
       "  </thead>\n",
       "  <tbody>\n",
       "    <tr>\n",
       "      <th>0</th>\n",
       "      <td>171.423776</td>\n",
       "      <td>train</td>\n",
       "    </tr>\n",
       "    <tr>\n",
       "      <th>0</th>\n",
       "      <td>182.886076</td>\n",
       "      <td>tune</td>\n",
       "    </tr>\n",
       "    <tr>\n",
       "      <th>0</th>\n",
       "      <td>182.641975</td>\n",
       "      <td>test</td>\n",
       "    </tr>\n",
       "    <tr>\n",
       "      <th>0</th>\n",
       "      <td>170.917018</td>\n",
       "      <td>train</td>\n",
       "    </tr>\n",
       "    <tr>\n",
       "      <th>0</th>\n",
       "      <td>190.750000</td>\n",
       "      <td>tune</td>\n",
       "    </tr>\n",
       "  </tbody>\n",
       "</table>\n",
       "</div>"
      ],
      "text/plain": [
       "        avg_M partition\n",
       "0  171.423776     train\n",
       "0  182.886076      tune\n",
       "0  182.641975      test\n",
       "0  170.917018     train\n",
       "0  190.750000      tune"
      ]
     },
     "execution_count": 13,
     "metadata": {},
     "output_type": "execute_result"
    }
   ],
   "source": [
    "nslide = defaultdict(list)\n",
    "dfs = []\n",
    "nfold = 10\n",
    "for i in range(nfold):\n",
    "    fold_dir = Path(f'data/{dataset_name}/splits/fold_{i}')\n",
    "    for partition in ['train', 'tune', 'test']:\n",
    "        df = pd.read_csv(Path(fold_dir, f'{partition}.csv'))\n",
    "        nslide[partition].append(len(df))\n",
    "        df = M_df.merge(df, how='inner', on='slide_id')\n",
    "        M = df.M.mean()\n",
    "        tmp = pd.DataFrame.from_dict({'avg_M': [M], 'partition': [partition]})\n",
    "        dfs.append(tmp)\n",
    "        \n",
    "df = pd.concat(dfs)\n",
    "df.head()"
   ]
  },
  {
   "cell_type": "code",
   "execution_count": 14,
   "id": "60461efe-03e2-4a2b-a16e-ba9064d45039",
   "metadata": {},
   "outputs": [
    {
     "data": {
      "text/plain": [
       "[712.9, 79.9, 82.2]"
      ]
     },
     "execution_count": 14,
     "metadata": {},
     "output_type": "execute_result"
    }
   ],
   "source": [
    "avg_nslide = [np.mean(nslide[p]) for p in ['train', 'tune', 'test']]\n",
    "avg_nslide"
   ]
  },
  {
   "cell_type": "code",
   "execution_count": 17,
   "id": "30af2ecc-0e3e-4792-91d3-6ae921be2149",
   "metadata": {},
   "outputs": [
    {
     "data": {
      "image/png": "[encoded data removed]",
      "text/plain": [
       "<Figure size 600x400 with 1 Axes>"
      ]
     },
     "metadata": {
      "needs_background": "light"
     },
     "output_type": "display_data"
    }
   ],
   "source": [
    "pad = 10\n",
    "save = True\n",
    "\n",
    "plt.figure(dpi=100)\n",
    "ax = sns.barplot(data=df, y='avg_M', x='partition', errorbar='sd')\n",
    "for i, p in enumerate(ax.patches):\n",
    "    errbar = ax.lines[i].get_data()[1]\n",
    "    std = errbar[1] - errbar[0]\n",
    "    \n",
    "    x, y = p.get_x(), p.get_y()\n",
    "    w, h = p.get_width(), p.get_height()\n",
    "    txt_x, txt_y = x+w/2, h+std/2+pad\n",
    "    \n",
    "    plt.text(txt_x, txt_y, f'{h:.1f}', horizontalalignment='center')\n",
    "    \n",
    "    n = avg_nslide[i]\n",
    "    plt.text(x+w/2, h/2, f'~{n:.0f} slides', horizontalalignment='center', verticalalignment='bottom', fontsize='small', color='white')\n",
    "\n",
    "plt.xlabel('partition')\n",
    "plt.ylabel('count')\n",
    "plt.ylim(0,df.avg_M.max()*1.2)\n",
    "plt.title(f'Average number of [4096,4096] region per slide', pad=10)\n",
    "plt.tight_layout()\n",
    "if save:\n",
    "    plt.savefig('notebooks/avg_M_partion.png', dpi=300)\n",
    "plt.show()"
   ]
  },
  {
   "cell_type": "markdown",
   "id": "68ec000e-bf65-419d-94f8-821cde9687ad",
   "metadata": {},
   "source": [
    "### Breakdown per subtype"
   ]
  },
  {
   "cell_type": "code",
   "execution_count": 18,
   "id": "60e0d76f-30b2-4c03-9025-23c11dadb47d",
   "metadata": {},
   "outputs": [
    {
     "data": {
      "text/html": [
       "<div>\n",
       "<style scoped>\n",
       "    .dataframe tbody tr th:only-of-type {\n",
       "        vertical-align: middle;\n",
       "    }\n",
       "\n",
       "    .dataframe tbody tr th {\n",
       "        vertical-align: top;\n",
       "    }\n",
       "\n",
       "    .dataframe thead th {\n",
       "        text-align: right;\n",
       "    }\n",
       "</style>\n",
       "<table border=\"1\" class=\"dataframe\">\n",
       "  <thead>\n",
       "    <tr style=\"text-align: right;\">\n",
       "      <th></th>\n",
       "      <th>avg_M</th>\n",
       "      <th>partition</th>\n",
       "      <th>subtype</th>\n",
       "    </tr>\n",
       "  </thead>\n",
       "  <tbody>\n",
       "    <tr>\n",
       "      <th>0</th>\n",
       "      <td>171.589615</td>\n",
       "      <td>train</td>\n",
       "      <td>IDC</td>\n",
       "    </tr>\n",
       "    <tr>\n",
       "      <th>0</th>\n",
       "      <td>170.584746</td>\n",
       "      <td>train</td>\n",
       "      <td>ILC</td>\n",
       "    </tr>\n",
       "    <tr>\n",
       "      <th>0</th>\n",
       "      <td>182.437500</td>\n",
       "      <td>tune</td>\n",
       "      <td>IDC</td>\n",
       "    </tr>\n",
       "    <tr>\n",
       "      <th>0</th>\n",
       "      <td>184.800000</td>\n",
       "      <td>tune</td>\n",
       "      <td>ILC</td>\n",
       "    </tr>\n",
       "    <tr>\n",
       "      <th>0</th>\n",
       "      <td>184.861538</td>\n",
       "      <td>test</td>\n",
       "      <td>IDC</td>\n",
       "    </tr>\n",
       "  </tbody>\n",
       "</table>\n",
       "</div>"
      ],
      "text/plain": [
       "        avg_M partition subtype\n",
       "0  171.589615     train     IDC\n",
       "0  170.584746     train     ILC\n",
       "0  182.437500      tune     IDC\n",
       "0  184.800000      tune     ILC\n",
       "0  184.861538      test     IDC"
      ]
     },
     "execution_count": 18,
     "metadata": {},
     "output_type": "execute_result"
    }
   ],
   "source": [
    "nslide = {'train': defaultdict(list), 'tune': defaultdict(list), 'test': defaultdict(list)}\n",
    "dfs = []\n",
    "nfold = 10\n",
    "for i in range(nfold):\n",
    "    fold_dir = Path(f'data/{dataset_name}/splits/fold_{i}')\n",
    "    for partition in ['train', 'tune', 'test']:\n",
    "        df = pd.read_csv(Path(fold_dir, f'{partition}.csv'))\n",
    "        df['subtype'] = df['label'].apply(lambda x: 'IDC' if x == 0 else 'ILC')\n",
    "        for subtype, gdf in df.groupby('subtype'):\n",
    "            nslide[partition][subtype].append(len(gdf))\n",
    "            gdf = M_df.merge(gdf, how='inner', on='slide_id')\n",
    "            M = gdf.M.mean()\n",
    "            tmp = pd.DataFrame.from_dict({'avg_M': [M], 'partition': [partition], 'subtype': [subtype]})\n",
    "            dfs.append(tmp)\n",
    "        \n",
    "df = pd.concat(dfs)\n",
    "df.head()"
   ]
  },
  {
   "cell_type": "code",
   "execution_count": 19,
   "id": "fa2cdd60-b68c-4308-b102-cd15af331829",
   "metadata": {},
   "outputs": [
    {
     "data": {
      "text/plain": [
       "{'train': defaultdict(list,\n",
       "             {'IDC': [597, 587, 598, 588, 595, 595, 589, 595, 588, 589],\n",
       "              'ILC': [118, 124, 120, 120, 121, 121, 123, 120, 121, 120]}),\n",
       " 'tune': defaultdict(list,\n",
       "             {'IDC': [64, 71, 65, 67, 68, 65, 68, 61, 69, 66],\n",
       "              'ILC': [15, 13, 15, 14, 12, 12, 13, 14, 13, 14]}),\n",
       " 'test': defaultdict(list,\n",
       "             {'IDC': [65, 68, 63, 71, 63, 66, 69, 70, 69, 71],\n",
       "              'ILC': [16, 12, 14, 15, 16, 16, 13, 15, 15, 15]})}"
      ]
     },
     "execution_count": 19,
     "metadata": {},
     "output_type": "execute_result"
    }
   ],
   "source": [
    "nslide"
   ]
  },
  {
   "cell_type": "code",
   "execution_count": 20,
   "id": "c4804748-e792-45be-aae2-918548c2eba9",
   "metadata": {},
   "outputs": [
    {
     "data": {
      "text/plain": [
       "[592.1, 66.4, 67.5, 120.8, 13.5, 14.7]"
      ]
     },
     "execution_count": 20,
     "metadata": {},
     "output_type": "execute_result"
    }
   ],
   "source": [
    "avg_nslide = [np.mean(nslide[p][s]) for s in df.subtype.unique() for p in ['train', 'tune', 'test']]\n",
    "avg_nslide"
   ]
  },
  {
   "cell_type": "code",
   "execution_count": 26,
   "id": "35979e42-b1c5-431b-88a8-f150ed21fdd4",
   "metadata": {},
   "outputs": [
    {
     "data": {
      "image/png": "[encoded data removed]",
      "text/plain": [
       "<Figure size 600x400 with 1 Axes>"
      ]
     },
     "metadata": {
      "needs_background": "light"
     },
     "output_type": "display_data"
    }
   ],
   "source": [
    "pad = 10\n",
    "save = True\n",
    "\n",
    "plt.figure(dpi=100)\n",
    "ax = sns.barplot(data=df, y='avg_M', hue='subtype', x='partition', errorbar='sd')\n",
    "for i, p in enumerate(ax.patches):\n",
    "    errbar = ax.lines[i].get_data()[1]\n",
    "    std = errbar[1] - errbar[0]\n",
    "    \n",
    "    x, y = p.get_x(), p.get_y()\n",
    "    w, h = p.get_width(), p.get_height()\n",
    "    txt_x, txt_y = x+w/2, h+std/2+pad\n",
    "    \n",
    "    plt.text(txt_x, txt_y, f'{h:.1f}', horizontalalignment='center')\n",
    "    \n",
    "    n = avg_nslide[i]\n",
    "    plt.text(x+w/2, h/2, f'~{n:.0f} slides', horizontalalignment='center', verticalalignment='bottom', fontsize='x-small', color='white')\n",
    "\n",
    "plt.xlabel('partition')\n",
    "plt.ylabel('count')\n",
    "plt.ylim(0,349)\n",
    "plt.title(f'Average number of [4096,4096] region per slide', pad=10)\n",
    "plt.tight_layout()\n",
    "if save:\n",
    "    plt.savefig('notebooks/avg_M_subtype.png', dpi=300)\n",
    "plt.show()"
   ]
  },
  {
   "cell_type": "markdown",
   "id": "79ef425e-fae5-4db8-90d9-f1a3be6fdd9a",
   "metadata": {},
   "source": [
    "#### Compute number of regions from HIPT pre-extracted features"
   ]
  },
  {
   "cell_type": "code",
   "execution_count": 4,
   "id": "9f81e135-658e-4be9-abae-bcbd8a57be95",
   "metadata": {},
   "outputs": [],
   "source": [
    "import tqdm\n",
    "import torch\n",
    "import numpy as np\n",
    "import pandas as pd\n",
    "\n",
    "from pathlib import Path\n",
    "from collections import defaultdict"
   ]
  },
  {
   "cell_type": "code",
   "execution_count": 5,
   "id": "e47fc371-b8bc-40e0-ac3d-18344bd8ea36",
   "metadata": {},
   "outputs": [],
   "source": [
    "hipt_dir = Path('/home/user/code/git/opensource/tmp/HIPT')\n",
    "d = 'embeddings_slide_lib'\n",
    "features_root_dir = Path(hipt_dir, f'3-Self-Supervised-Eval/{d}/{d}/vit256mean_tcga_slide_embeddings')"
   ]
  },
  {
   "cell_type": "code",
   "execution_count": 6,
   "id": "c9bc8e59-614d-4d72-b330-e34f73e88c75",
   "metadata": {},
   "outputs": [
    {
     "data": {
      "text/plain": [
       "875"
      ]
     },
     "execution_count": 6,
     "metadata": {},
     "output_type": "execute_result"
    }
   ],
   "source": [
    "features_fp = list(features_root_dir.glob('*.pt'))\n",
    "len(features_fp)"
   ]
  },
  {
   "cell_type": "code",
   "execution_count": 7,
   "id": "44f7692a-0204-40cf-8dd4-2afe69165497",
   "metadata": {},
   "outputs": [
    {
     "name": "stderr",
     "output_type": "stream",
     "text": [
      "Loading features: 100%|███████████████████| 875/875 [00:10<00:00, 87.28 slide/s]\n"
     ]
    }
   ],
   "source": [
    "data = defaultdict(list)\n",
    "\n",
    "with tqdm.tqdm(\n",
    "    features_fp,\n",
    "    desc='Loading features',\n",
    "    unit=' slide',\n",
    "    ncols=80,\n",
    "    leave=True,\n",
    ") as t:\n",
    "    for fp in t:\n",
    "        slide_id = fp.stem\n",
    "        feat = torch.load(fp)\n",
    "        m = feat.shape[0]\n",
    "        data['slide_id'].append(slide_id)\n",
    "        data['M'].append(m)"
   ]
  },
  {
   "cell_type": "code",
   "execution_count": 8,
   "id": "a5ebdb3d-1349-44a7-97ab-d0c21e4cf307",
   "metadata": {},
   "outputs": [
    {
     "data": {
      "text/html": [
       "<div>\n",
       "<style scoped>\n",
       "    .dataframe tbody tr th:only-of-type {\n",
       "        vertical-align: middle;\n",
       "    }\n",
       "\n",
       "    .dataframe tbody tr th {\n",
       "        vertical-align: top;\n",
       "    }\n",
       "\n",
       "    .dataframe thead th {\n",
       "        text-align: right;\n",
       "    }\n",
       "</style>\n",
       "<table border=\"1\" class=\"dataframe\">\n",
       "  <thead>\n",
       "    <tr style=\"text-align: right;\">\n",
       "      <th></th>\n",
       "      <th>slide_id</th>\n",
       "      <th>M</th>\n",
       "    </tr>\n",
       "  </thead>\n",
       "  <tbody>\n",
       "    <tr>\n",
       "      <th>0</th>\n",
       "      <td>TCGA-B6-A0X4-01Z-00-DX1.4B7914DE-3436-4D69-9BC...</td>\n",
       "      <td>46</td>\n",
       "    </tr>\n",
       "    <tr>\n",
       "      <th>1</th>\n",
       "      <td>TCGA-D8-A1XF-01Z-00-DX2.1460E522-5B87-4690-8B6...</td>\n",
       "      <td>28</td>\n",
       "    </tr>\n",
       "    <tr>\n",
       "      <th>2</th>\n",
       "      <td>TCGA-B6-A0X7-01Z-00-DX1.A2AA8FE9-CF43-434A-AE7...</td>\n",
       "      <td>43</td>\n",
       "    </tr>\n",
       "    <tr>\n",
       "      <th>3</th>\n",
       "      <td>TCGA-A2-A0YG-01Z-00-DX1.89A39319-F880-47DE-B31...</td>\n",
       "      <td>18</td>\n",
       "    </tr>\n",
       "    <tr>\n",
       "      <th>4</th>\n",
       "      <td>TCGA-BH-A0BP-01Z-00-DX1.63A87C1D-87FA-494D-983...</td>\n",
       "      <td>10</td>\n",
       "    </tr>\n",
       "  </tbody>\n",
       "</table>\n",
       "</div>"
      ],
      "text/plain": [
       "                                            slide_id   M\n",
       "0  TCGA-B6-A0X4-01Z-00-DX1.4B7914DE-3436-4D69-9BC...  46\n",
       "1  TCGA-D8-A1XF-01Z-00-DX2.1460E522-5B87-4690-8B6...  28\n",
       "2  TCGA-B6-A0X7-01Z-00-DX1.A2AA8FE9-CF43-434A-AE7...  43\n",
       "3  TCGA-A2-A0YG-01Z-00-DX1.89A39319-F880-47DE-B31...  18\n",
       "4  TCGA-BH-A0BP-01Z-00-DX1.63A87C1D-87FA-494D-983...  10"
      ]
     },
     "execution_count": 8,
     "metadata": {},
     "output_type": "execute_result"
    }
   ],
   "source": [
    "M_df = pd.DataFrame.from_dict(data)\n",
    "M_df.head()"
   ]
  },
  {
   "cell_type": "code",
   "execution_count": 9,
   "id": "7a31035e-9b98-40a8-b8a0-eb74c21eb010",
   "metadata": {},
   "outputs": [
    {
     "data": {
      "text/plain": [
       "29.698285714285714"
      ]
     },
     "execution_count": 9,
     "metadata": {},
     "output_type": "execute_result"
    }
   ],
   "source": [
    "M_df.M.mean()"
   ]
  },
  {
   "cell_type": "code",
   "execution_count": 10,
   "id": "f234126c-1edb-4c03-9a32-24e66af9dc1a",
   "metadata": {},
   "outputs": [
    {
     "data": {
      "text/plain": [
       "(1, 122)"
      ]
     },
     "execution_count": 10,
     "metadata": {},
     "output_type": "execute_result"
    }
   ],
   "source": [
    "M_df.M.min(), M_df.M.max()"
   ]
  },
  {
   "cell_type": "code",
   "execution_count": null,
   "id": "0832b548-2134-42c4-ab31-1aa6478f9bbc",
   "metadata": {},
   "outputs": [],
   "source": []
  }
 ],
 "metadata": {
  "kernelspec": {
   "display_name": "Python 3 (ipykernel)",
   "language": "python",
   "name": "python3"
  },
  "language_info": {
   "codemirror_mode": {
    "name": "ipython",
    "version": 3
   },
   "file_extension": ".py",
   "mimetype": "text/x-python",
   "name": "python",
   "nbconvert_exporter": "python",
   "pygments_lexer": "ipython3",
   "version": "3.9.10"
  }
 },
 "nbformat": 4,
 "nbformat_minor": 5
}
