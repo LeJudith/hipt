{
 "cells": [
  {
   "cell_type": "markdown",
   "id": "c5f9d33a-c4e1-4984-8a01-8ebb4402c96a",
   "metadata": {},
   "source": [
    "# Get average number of patches per slide"
   ]
  },
  {
   "cell_type": "code",
   "execution_count": null,
   "id": "63663596-c1f0-4854-8895-b98786469390",
   "metadata": {},
   "outputs": [],
   "source": [
    "import os\n",
    "import h5py\n",
    "import tqdm\n",
    "import numpy as np\n",
    "import pandas as pd\n",
    "\n",
    "from pathlib import Path\n",
    "from collections import defaultdict"
   ]
  },
  {
   "cell_type": "code",
   "execution_count": null,
   "id": "1ded8049-264b-4ede-89d4-b733e280066d",
   "metadata": {},
   "outputs": [],
   "source": [
    "os.chdir('/data/pathology/projects/ais-cap/code/git/clemsgrs/hipt')"
   ]
  },
  {
   "cell_type": "code",
   "execution_count": null,
   "id": "a0b243f4-bfb8-4b58-b5d5-6877dc702a0d",
   "metadata": {},
   "outputs": [],
   "source": [
    "root_dir = Path('/data/pathology/projects/ais-cap/code/git/clemsgrs/hs2p')"
   ]
  },
  {
   "cell_type": "code",
   "execution_count": null,
   "id": "31524c55-adeb-4424-b0bc-dcf8c5919639",
   "metadata": {},
   "outputs": [],
   "source": [
    "dataset_name = 'tcga_brca'\n",
    "experiment_name = 'otsu_spacing'\n",
    "patch_dir = Path(root_dir, 'output', dataset_name, experiment_name, 'patches')"
   ]
  },
  {
   "cell_type": "code",
   "execution_count": null,
   "id": "8040b215-511d-40fc-bcc4-30056611a2ea",
   "metadata": {},
   "outputs": [],
   "source": [
    "patch_size = 4096"
   ]
  },
  {
   "cell_type": "code",
   "execution_count": null,
   "id": "d4a9a65f-3b7b-4d73-9542-a0c7a83e3cbb",
   "metadata": {},
   "outputs": [],
   "source": [
    "slide_patches = [s for s in patch_dir.iterdir()]\n",
    "len(slide_patches)"
   ]
  },
  {
   "cell_type": "code",
   "execution_count": null,
   "id": "9a1ae6d2-3392-410e-97a7-497fecaaeff2",
   "metadata": {},
   "outputs": [],
   "source": [
    "data = defaultdict(list)\n",
    "for d in slide_patches:\n",
    "    slide_dir = Path(d, str(patch_size))\n",
    "    slide_id = d.name\n",
    "    h5py_fp = Path(slide_dir, f'{slide_id}.h5')\n",
    "    p = h5py.File(h5py_fp, 'r')['coords']\n",
    "    m = len(p)\n",
    "    data['slide_id'].append(slide_id)\n",
    "    data['M'].append(m)"
   ]
  },
  {
   "cell_type": "code",
   "execution_count": null,
   "id": "ae8963bc-e520-4123-994c-8144ce601fb7",
   "metadata": {},
   "outputs": [],
   "source": [
    "M_df = pd.DataFrame.from_dict(data)\n",
    "M_df.head()"
   ]
  },
  {
   "cell_type": "code",
   "execution_count": null,
   "id": "e16265af-e360-4e6e-b0d0-3e01fb63cef6",
   "metadata": {},
   "outputs": [],
   "source": [
    "M_df.M.mean()"
   ]
  },
  {
   "cell_type": "code",
   "execution_count": null,
   "id": "1d9ba3ba-8557-4839-8373-f1b91a9a564b",
   "metadata": {},
   "outputs": [],
   "source": [
    "M_df.M.min(), M_df.M.max()"
   ]
  },
  {
   "cell_type": "code",
   "execution_count": null,
   "id": "7efc00fa-6231-4977-92ac-1def98aea175",
   "metadata": {},
   "outputs": [],
   "source": [
    "import pandas as pd\n",
    "import seaborn as sns\n",
    "import matplotlib.pyplot as plt"
   ]
  },
  {
   "cell_type": "code",
   "execution_count": null,
   "id": "17608b9e-d9b3-4ae8-8214-234f0ba37374",
   "metadata": {},
   "outputs": [],
   "source": [
    "nslide = defaultdict(list)\n",
    "dfs = []\n",
    "nfold = 10\n",
    "for i in range(nfold):\n",
    "    fold_dir = Path(f'data/{dataset_name}/splits/fold_{i}')\n",
    "    for partition in ['train', 'tune', 'test']:\n",
    "        df = pd.read_csv(Path(fold_dir, f'{partition}.csv'))\n",
    "        nslide[partition].append(len(df))\n",
    "        df = M_df.merge(df, how='inner', on='slide_id')\n",
    "        M = df.M.mean()\n",
    "        tmp = pd.DataFrame.from_dict({'avg_M': [M], 'partition': [partition]})\n",
    "        dfs.append(tmp)\n",
    "        \n",
    "df = pd.concat(dfs)\n",
    "df.head()"
   ]
  },
  {
   "cell_type": "code",
   "execution_count": null,
   "id": "60461efe-03e2-4a2b-a16e-ba9064d45039",
   "metadata": {},
   "outputs": [],
   "source": [
    "avg_nslide = [np.mean(nslide[p]) for p in ['train', 'tune', 'test']]\n",
    "avg_nslide"
   ]
  },
  {
   "cell_type": "code",
   "execution_count": null,
   "id": "30af2ecc-0e3e-4792-91d3-6ae921be2149",
   "metadata": {},
   "outputs": [],
   "source": [
    "pad = 10\n",
    "save = True\n",
    "\n",
    "plt.figure(dpi=100)\n",
    "ax = sns.barplot(data=df, y='avg_M', x='partition', errorbar='sd')\n",
    "for i, p in enumerate(ax.patches):\n",
    "    errbar = ax.lines[i].get_data()[1]\n",
    "    std = errbar[1] - errbar[0]\n",
    "    \n",
    "    x, y = p.get_x(), p.get_y()\n",
    "    w, h = p.get_width(), p.get_height()\n",
    "    txt_x, txt_y = x+w/2, h+std/2+pad\n",
    "    \n",
    "    plt.text(txt_x, txt_y, f'{h:.1f}', horizontalalignment='center')\n",
    "    \n",
    "    n = avg_nslide[i]\n",
    "    plt.text(x+w/2, h/2, f'~{n:.0f} slides', horizontalalignment='center', verticalalignment='bottom', fontsize='small', color='white')\n",
    "\n",
    "plt.xlabel('partition')\n",
    "plt.ylabel('count')\n",
    "plt.ylim(0,df.avg_M.max()*1.2)\n",
    "plt.title(f'Average number of [4096,4096] region per slide', pad=10)\n",
    "plt.tight_layout()\n",
    "if save:\n",
    "    plt.savefig('notebooks/avg_M_partion.png', dpi=300)\n",
    "plt.show()"
   ]
  },
  {
   "cell_type": "markdown",
   "id": "68ec000e-bf65-419d-94f8-821cde9687ad",
   "metadata": {},
   "source": [
    "### Breakdown per subtype"
   ]
  },
  {
   "cell_type": "code",
   "execution_count": null,
   "id": "60e0d76f-30b2-4c03-9025-23c11dadb47d",
   "metadata": {},
   "outputs": [],
   "source": [
    "nslide = {'train': defaultdict(list), 'tune': defaultdict(list), 'test': defaultdict(list)}\n",
    "dfs = []\n",
    "nfold = 10\n",
    "for i in range(nfold):\n",
    "    fold_dir = Path(f'data/{dataset_name}/splits/fold_{i}')\n",
    "    for partition in ['train', 'tune', 'test']:\n",
    "        df = pd.read_csv(Path(fold_dir, f'{partition}.csv'))\n",
    "        df['subtype'] = df['label'].apply(lambda x: 'IDC' if x == 0 else 'ILC')\n",
    "        for subtype, gdf in df.groupby('subtype'):\n",
    "            nslide[partition][subtype].append(len(gdf))\n",
    "            gdf = M_df.merge(gdf, how='inner', on='slide_id')\n",
    "            M = gdf.M.mean()\n",
    "            tmp = pd.DataFrame.from_dict({'avg_M': [M], 'partition': [partition], 'subtype': [subtype]})\n",
    "            dfs.append(tmp)\n",
    "        \n",
    "df = pd.concat(dfs)\n",
    "df.head()"
   ]
  },
  {
   "cell_type": "code",
   "execution_count": null,
   "id": "fa2cdd60-b68c-4308-b102-cd15af331829",
   "metadata": {},
   "outputs": [],
   "source": [
    "nslide"
   ]
  },
  {
   "cell_type": "code",
   "execution_count": null,
   "id": "c4804748-e792-45be-aae2-918548c2eba9",
   "metadata": {},
   "outputs": [],
   "source": [
    "avg_nslide = [np.mean(nslide[p][s]) for s in df.subtype.unique() for p in ['train', 'tune', 'test']]\n",
    "avg_nslide"
   ]
  },
  {
   "cell_type": "code",
   "execution_count": null,
   "id": "35979e42-b1c5-431b-88a8-f150ed21fdd4",
   "metadata": {},
   "outputs": [],
   "source": [
    "pad = 10\n",
    "save = True\n",
    "\n",
    "plt.figure(dpi=100)\n",
    "ax = sns.barplot(data=df, y='avg_M', hue='subtype', x='partition', errorbar='sd')\n",
    "for i, p in enumerate(ax.patches):\n",
    "    errbar = ax.lines[i].get_data()[1]\n",
    "    std = errbar[1] - errbar[0]\n",
    "    \n",
    "    x, y = p.get_x(), p.get_y()\n",
    "    w, h = p.get_width(), p.get_height()\n",
    "    txt_x, txt_y = x+w/2, h+std/2+pad\n",
    "    \n",
    "    plt.text(txt_x, txt_y, f'{h:.1f}', horizontalalignment='center')\n",
    "    \n",
    "    n = avg_nslide[i]\n",
    "    plt.text(x+w/2, h/2, f'~{n:.0f} slides', horizontalalignment='center', verticalalignment='bottom', fontsize='x-small', color='white')\n",
    "\n",
    "plt.xlabel('partition')\n",
    "plt.ylabel('count')\n",
    "plt.ylim(0,349)\n",
    "plt.title(f'Average number of [4096,4096] region per slide', pad=10)\n",
    "plt.tight_layout()\n",
    "if save:\n",
    "    plt.savefig('notebooks/avg_M_subtype.png', dpi=300)\n",
    "plt.show()"
   ]
  },
  {
   "cell_type": "markdown",
   "id": "79ef425e-fae5-4db8-90d9-f1a3be6fdd9a",
   "metadata": {},
   "source": [
    "#### Compute number of regions from HIPT pre-extracted features"
   ]
  },
  {
   "cell_type": "code",
   "execution_count": null,
   "id": "9f81e135-658e-4be9-abae-bcbd8a57be95",
   "metadata": {},
   "outputs": [],
   "source": [
    "import tqdm\n",
    "import torch\n",
    "import numpy as np\n",
    "import pandas as pd\n",
    "\n",
    "from pathlib import Path\n",
    "from collections import defaultdict"
   ]
  },
  {
   "cell_type": "code",
   "execution_count": null,
   "id": "e47fc371-b8bc-40e0-ac3d-18344bd8ea36",
   "metadata": {},
   "outputs": [],
   "source": [
    "hipt_dir = Path('/home/user/code/git/opensource/tmp/HIPT')\n",
    "d = 'embeddings_slide_lib'\n",
    "features_root_dir = Path(hipt_dir, f'3-Self-Supervised-Eval/{d}/{d}/vit256mean_tcga_slide_embeddings')"
   ]
  },
  {
   "cell_type": "code",
   "execution_count": null,
   "id": "c9bc8e59-614d-4d72-b330-e34f73e88c75",
   "metadata": {},
   "outputs": [],
   "source": [
    "features_fp = list(features_root_dir.glob('*.pt'))\n",
    "len(features_fp)"
   ]
  },
  {
   "cell_type": "code",
   "execution_count": null,
   "id": "44f7692a-0204-40cf-8dd4-2afe69165497",
   "metadata": {},
   "outputs": [],
   "source": [
    "data = defaultdict(list)\n",
    "\n",
    "with tqdm.tqdm(\n",
    "    features_fp,\n",
    "    desc='Loading features',\n",
    "    unit=' slide',\n",
    "    ncols=80,\n",
    "    leave=True,\n",
    ") as t:\n",
    "    for fp in t:\n",
    "        slide_id = fp.stem\n",
    "        feat = torch.load(fp)\n",
    "        m = feat.shape[0]\n",
    "        data['slide_id'].append(slide_id)\n",
    "        data['M'].append(m)"
   ]
  },
  {
   "cell_type": "code",
   "execution_count": null,
   "id": "a5ebdb3d-1349-44a7-97ab-d0c21e4cf307",
   "metadata": {},
   "outputs": [],
   "source": [
    "M_df = pd.DataFrame.from_dict(data)\n",
    "M_df.head()"
   ]
  },
  {
   "cell_type": "code",
   "execution_count": null,
   "id": "7a31035e-9b98-40a8-b8a0-eb74c21eb010",
   "metadata": {},
   "outputs": [],
   "source": [
    "M_df.M.mean()"
   ]
  },
  {
   "cell_type": "code",
   "execution_count": null,
   "id": "f234126c-1edb-4c03-9a32-24e66af9dc1a",
   "metadata": {},
   "outputs": [],
   "source": [
    "M_df.M.min(), M_df.M.max()"
   ]
  },
  {
   "cell_type": "code",
   "execution_count": null,
   "id": "0832b548-2134-42c4-ab31-1aa6478f9bbc",
   "metadata": {},
   "outputs": [],
   "source": []
  }
 ],
 "metadata": {
  "kernelspec": {
   "display_name": "Python 3 (ipykernel)",
   "language": "python",
   "name": "python3"
  },
  "language_info": {
   "codemirror_mode": {
    "name": "ipython",
    "version": 3
   },
   "file_extension": ".py",
   "mimetype": "text/x-python",
   "name": "python",
   "nbconvert_exporter": "python",
   "pygments_lexer": "ipython3",
   "version": "3.9.10"
  }
 },
 "nbformat": 4,
 "nbformat_minor": 5
}
