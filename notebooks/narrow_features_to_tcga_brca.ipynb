{
 "cells": [
  {
   "cell_type": "markdown",
   "id": "5349fd57-0b1a-4832-a98f-ace75d2692cb",
   "metadata": {},
   "source": [
    "# Narrow down pre-extracted features to TCGA BRCA dataset"
   ]
  },
  {
   "cell_type": "code",
   "execution_count": 26,
   "id": "0e873637-6a61-4706-8f68-3eeb6b1a4627",
   "metadata": {},
   "outputs": [],
   "source": [
    "import os\n",
    "from pathlib import Path"
   ]
  },
  {
   "cell_type": "code",
   "execution_count": 4,
   "id": "797c27bf-1e5f-4ca9-9c5f-9a17ff630918",
   "metadata": {},
   "outputs": [
    {
     "data": {
      "text/plain": [
       "875"
      ]
     },
     "execution_count": 4,
     "metadata": {},
     "output_type": "execute_result"
    }
   ],
   "source": [
    "slide_list_fp = '../data/tcga_brca/slide_list.txt'\n",
    "with open(slide_list_fp, 'r') as f:\n",
    "    slide_ids = [Path(s.strip()).stem for s in f.readlines()]\n",
    "f.close()\n",
    "len(slide_ids)"
   ]
  },
  {
   "cell_type": "code",
   "execution_count": 5,
   "id": "3863732b-a7bd-461a-a0ff-4e59f7859ed1",
   "metadata": {},
   "outputs": [
    {
     "data": {
      "text/plain": [
       "'TCGA-A7-A26H-01Z-00-DX1.3344CFD3-5A19-4B01-BEB2-AB89F83FD53A'"
      ]
     },
     "execution_count": 5,
     "metadata": {},
     "output_type": "execute_result"
    }
   ],
   "source": [
    "slide_ids[0]"
   ]
  },
  {
   "cell_type": "code",
   "execution_count": 18,
   "id": "ec258d91-27b7-4d4a-b9e6-4552eb881309",
   "metadata": {},
   "outputs": [],
   "source": [
    "hipt_dir = Path('/home/user/code/git/opensource/tmp/HIPT')\n",
    "d = 'embeddings_slide_lib'\n",
    "features_root_dir = Path(hipt_dir, f'3-Self-Supervised-Eval/{d}/{d}/vit256mean_tcga_slide_embeddings')"
   ]
  },
  {
   "cell_type": "code",
   "execution_count": 24,
   "id": "eee49788-1d3c-4824-8075-1fb7f732942c",
   "metadata": {},
   "outputs": [
    {
     "data": {
      "text/plain": [
       "10678"
      ]
     },
     "execution_count": 24,
     "metadata": {},
     "output_type": "execute_result"
    }
   ],
   "source": [
    "features = [f for f in features_root_dir.glob('*.pt')]\n",
    "N = len(features)\n",
    "N"
   ]
  },
  {
   "cell_type": "code",
   "execution_count": 25,
   "id": "438d0e9f-5401-4207-b019-c3363783fa6d",
   "metadata": {},
   "outputs": [
    {
     "data": {
      "text/plain": [
       "PosixPath('/home/user/code/git/opensource/tmp/HIPT/3-Self-Supervised-Eval/embeddings_slide_lib/embeddings_slide_lib/vit256mean_tcga_slide_embeddings/TCGA-EY-A2OP-01Z-00-DX1.8F54BEC3-5B57-47CB-95D0-BE55CC35048A.pt')"
      ]
     },
     "execution_count": 25,
     "metadata": {},
     "output_type": "execute_result"
    }
   ],
   "source": [
    "features[0]"
   ]
  },
  {
   "cell_type": "code",
   "execution_count": 31,
   "id": "51263be7-38b7-4d9f-a425-bea21c548387",
   "metadata": {},
   "outputs": [
    {
     "name": "stdout",
     "output_type": "stream",
     "text": [
      "9803 features removed ; 875 features remaining\n"
     ]
    }
   ],
   "source": [
    "c = 0\n",
    "for f in features:\n",
    "    sid = f.stem\n",
    "    if sid in slide_ids:\n",
    "        continue\n",
    "    else:\n",
    "        os.remove(str(f))\n",
    "        c += 1\n",
    "print(f'{c} features removed ; {N-c} features remaining')"
   ]
  },
  {
   "cell_type": "code",
   "execution_count": 32,
   "id": "9abafccf-6179-41e8-99be-b87d8b81a3ef",
   "metadata": {},
   "outputs": [
    {
     "data": {
      "text/plain": [
       "875"
      ]
     },
     "execution_count": 32,
     "metadata": {},
     "output_type": "execute_result"
    }
   ],
   "source": [
    "remaining_features = [f for f in features_root_dir.glob('*.pt')]\n",
    "n = len(remaining_features)\n",
    "n"
   ]
  },
  {
   "cell_type": "code",
   "execution_count": null,
   "id": "130e7de9-95c6-43d5-8176-a15bd0326d85",
   "metadata": {},
   "outputs": [],
   "source": []
  }
 ],
 "metadata": {
  "kernelspec": {
   "display_name": "Python 3 (ipykernel)",
   "language": "python",
   "name": "python3"
  },
  "language_info": {
   "codemirror_mode": {
    "name": "ipython",
    "version": 3
   },
   "file_extension": ".py",
   "mimetype": "text/x-python",
   "name": "python",
   "nbconvert_exporter": "python",
   "pygments_lexer": "ipython3",
   "version": "3.9.10"
  }
 },
 "nbformat": 4,
 "nbformat_minor": 5
}
