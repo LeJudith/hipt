{
 "cells": [
  {
   "cell_type": "markdown",
   "id": "d2ad74a8-c215-4957-9d61-eedb376dc04f",
   "metadata": {},
   "source": [
    "# Compare Francesco's TCGA slides & mines"
   ]
  },
  {
   "cell_type": "code",
   "execution_count": null,
   "id": "8cb10074-a445-4be6-a73b-992430cc03cc",
   "metadata": {},
   "outputs": [],
   "source": [
    "import openslide\n",
    "from pathlib import Path\n",
    "from IPython.display import Image, display, clear_output"
   ]
  },
  {
   "cell_type": "code",
   "execution_count": null,
   "id": "7f3a2893-39da-478d-a7ac-8f005c11a510",
   "metadata": {},
   "outputs": [],
   "source": [
    "data_dir = Path('/data/pathology/archives/breast/TCGA_diagnostics')"
   ]
  },
  {
   "cell_type": "code",
   "execution_count": null,
   "id": "f3054067-377e-484f-89a9-aa8d169c6e25",
   "metadata": {},
   "outputs": [],
   "source": [
    "francesco_slides = [s for s in Path(data_dir, 'images').glob('*.tif')]\n",
    "clement_slides = [s for s in Path(data_dir, 'clement_slides/tif').glob('*.tif')]\n",
    "len(francesco_slides)+len(clement_slides)"
   ]
  },
  {
   "cell_type": "code",
   "execution_count": null,
   "id": "5d43ecad-27c3-4301-bffc-d0d41d0d2d28",
   "metadata": {},
   "outputs": [],
   "source": [
    "s1 = francesco_slides[0]\n",
    "s2 = clement_slides[0]\n",
    "s1.name, s2.name"
   ]
  },
  {
   "cell_type": "code",
   "execution_count": null,
   "id": "292da5bd-0850-458f-acb6-3e9261fab6af",
   "metadata": {},
   "outputs": [],
   "source": [
    "s1_os = openslide.OpenSlide(str(s1))\n",
    "s1_os.dimensions"
   ]
  },
  {
   "cell_type": "code",
   "execution_count": null,
   "id": "90d59b70-ec7f-4041-b0af-241e7b34590f",
   "metadata": {},
   "outputs": [],
   "source": [
    "s1_os.get_thumbnail((500,500))"
   ]
  },
  {
   "cell_type": "code",
   "execution_count": null,
   "id": "6d068fbc-90a2-4051-b7be-4e88f1b2d08c",
   "metadata": {},
   "outputs": [],
   "source": [
    "s1_os.level_dimensions"
   ]
  },
  {
   "cell_type": "code",
   "execution_count": null,
   "id": "1a2c766c-fce9-40dc-9321-6d0514f0ddc2",
   "metadata": {},
   "outputs": [],
   "source": [
    "s1_os.level_downsamples"
   ]
  },
  {
   "cell_type": "code",
   "execution_count": null,
   "id": "fd2d3c5f-bb5a-44a7-a3d9-17624b2afac0",
   "metadata": {},
   "outputs": [],
   "source": [
    "s2_os = openslide.OpenSlide(str(s2))\n",
    "s2_os.dimensions"
   ]
  },
  {
   "cell_type": "code",
   "execution_count": null,
   "id": "2eec7099-7853-468b-a5d3-1305a499dcec",
   "metadata": {},
   "outputs": [],
   "source": [
    "s2_os.get_thumbnail((500,500))"
   ]
  },
  {
   "cell_type": "code",
   "execution_count": null,
   "id": "d4d6d976-a78f-42ef-947f-1d7d330755fd",
   "metadata": {},
   "outputs": [],
   "source": [
    "s2_os.level_dimensions"
   ]
  },
  {
   "cell_type": "code",
   "execution_count": null,
   "id": "1773856a-548b-43ee-9f15-5090d9827548",
   "metadata": {},
   "outputs": [],
   "source": [
    "s2_os.level_downsamples"
   ]
  },
  {
   "cell_type": "code",
   "execution_count": null,
   "id": "a1c8173f-b4d3-4b36-a73b-915213124bf9",
   "metadata": {},
   "outputs": [],
   "source": [
    "s2_os_svs = openslide.OpenSlide(str(s2).replace('tif', 'svs'))\n",
    "s2_os_svs.dimensions"
   ]
  },
  {
   "cell_type": "code",
   "execution_count": null,
   "id": "008e5154-5715-407d-9749-e91b4ee73702",
   "metadata": {},
   "outputs": [],
   "source": [
    "s2_os_svs.get_thumbnail((500,500))"
   ]
  },
  {
   "cell_type": "code",
   "execution_count": null,
   "id": "b47b9094-880c-4e7f-b031-e9787d2d22f1",
   "metadata": {},
   "outputs": [],
   "source": [
    "for fp in clement_slides:\n",
    "    s = openslide.OpenSlide(str(fp).replace('tif', 'svs'))\n",
    "    thumb = s.get_thumbnail((500,500))\n",
    "    display(thumb)\n",
    "    ans = input('next? (y/n) ')\n",
    "    if ans == 'n':\n",
    "        break\n",
    "    clear_output(wait=True)\n",
    "    s.close()"
   ]
  },
  {
   "cell_type": "code",
   "execution_count": null,
   "id": "326e9052-d44c-4d7c-b541-fc9833d12423",
   "metadata": {},
   "outputs": [],
   "source": [
    "for fp in francesco_slides:\n",
    "    s = openslide.OpenSlide(str(fp))\n",
    "    thumb = s.get_thumbnail((500,500))\n",
    "    display(thumb)\n",
    "    ans = input('next? (y/n) ')\n",
    "    if ans == 'n':\n",
    "        break\n",
    "    clear_output(wait=True)\n",
    "    s.close()"
   ]
  },
  {
   "cell_type": "markdown",
   "id": "28c4d1fd-005f-4b63-8999-d31d96e393b7",
   "metadata": {},
   "source": [
    "### Compare the result of ASAP (JPEG compression & rate=80) with the same slides from Francesco pping"
   ]
  },
  {
   "cell_type": "code",
   "execution_count": null,
   "id": "7df1e37e-8174-4d75-9404-695ecc2e8061",
   "metadata": {},
   "outputs": [],
   "source": [
    "francesco = francesco_slides[7]\n",
    "str(francesco)"
   ]
  },
  {
   "cell_type": "code",
   "execution_count": null,
   "id": "3eba3245-fcfb-4612-85bb-bb40dc1aafa5",
   "metadata": {},
   "outputs": [],
   "source": [
    "clement = Path(str(francesco).replace('images','clement_slides/tmp'))\n",
    "str(clement)"
   ]
  },
  {
   "cell_type": "code",
   "execution_count": null,
   "id": "3f732456-b02e-4a7c-86eb-2cb8619c9c45",
   "metadata": {},
   "outputs": [],
   "source": [
    "francesco_slide = openslide.OpenSlide(str(francesco))\n",
    "francesco_slide.dimensions"
   ]
  },
  {
   "cell_type": "code",
   "execution_count": null,
   "id": "7086162e-5703-4e51-af1d-39e9ff69e473",
   "metadata": {},
   "outputs": [],
   "source": [
    "clement_slide = openslide.OpenSlide(str(clement))\n",
    "clement_slide.dimensions"
   ]
  },
  {
   "cell_type": "code",
   "execution_count": null,
   "id": "80a788b9-b894-4c97-9ef7-f1bc59049365",
   "metadata": {},
   "outputs": [],
   "source": [
    "francesco_slide.get_thumbnail((500,500))"
   ]
  },
  {
   "cell_type": "code",
   "execution_count": null,
   "id": "3e7f9aa7-10cb-417c-bca5-6b21790662fc",
   "metadata": {},
   "outputs": [],
   "source": [
    "clement_slide.get_thumbnail((500,500))"
   ]
  },
  {
   "cell_type": "code",
   "execution_count": null,
   "id": "8cc95328-5389-4486-89dd-35214ff048ea",
   "metadata": {},
   "outputs": [],
   "source": [
    "francesco_slide.level_downsamples"
   ]
  },
  {
   "cell_type": "code",
   "execution_count": null,
   "id": "5d40ee90-aba9-4797-bd73-86949fa7e676",
   "metadata": {},
   "outputs": [],
   "source": [
    "clement_slide.level_downsamples"
   ]
  },
  {
   "cell_type": "code",
   "execution_count": null,
   "id": "529e11c2-25c7-443e-bc90-544a861ae9ea",
   "metadata": {},
   "outputs": [],
   "source": []
  }
 ],
 "metadata": {
  "kernelspec": {
   "display_name": "Python 3 (ipykernel)",
   "language": "python",
   "name": "python3"
  },
  "language_info": {
   "codemirror_mode": {
    "name": "ipython",
    "version": 3
   },
   "file_extension": ".py",
   "mimetype": "text/x-python",
   "name": "python",
   "nbconvert_exporter": "python",
   "pygments_lexer": "ipython3",
   "version": "3.9.10"
  }
 },
 "nbformat": 4,
 "nbformat_minor": 5
}
