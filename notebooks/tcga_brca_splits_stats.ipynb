{
 "cells": [
  {
   "cell_type": "markdown",
   "id": "97c7d220-0c55-4e7c-bbca-17c7025f5124",
   "metadata": {},
   "source": [
    "# HIPT TCGA BRCA Splits statistics"
   ]
  },
  {
   "cell_type": "code",
   "execution_count": 1,
   "id": "89feb85d-634d-437f-b452-835cc653172a",
   "metadata": {},
   "outputs": [],
   "source": [
    "import os\n",
    "import pandas as pd\n",
    "import seaborn as sns\n",
    "import matplotlib.pyplot as plt\n",
    "\n",
    "from pathlib import Path"
   ]
  },
  {
   "cell_type": "code",
   "execution_count": null,
   "id": "762e44e7-5141-4a9c-990c-6138010b753e",
   "metadata": {},
   "outputs": [],
   "source": [
    "os.chdir('/data/pathology/projects/ais-cap/code/git/clemsgrs/hipt')"
   ]
  },
  {
   "cell_type": "markdown",
   "id": "2acf66fd-46a8-4cd4-98b6-244cb2f56314",
   "metadata": {},
   "source": [
    "### Loading splits"
   ]
  },
  {
   "cell_type": "code",
   "execution_count": 2,
   "id": "9daf96f3-7182-4a69-a3e7-591182003562",
   "metadata": {},
   "outputs": [],
   "source": [
    "fold_num = 0\n",
    "dataset_name = 'tcga_brca'"
   ]
  },
  {
   "cell_type": "code",
   "execution_count": 3,
   "id": "4d0e5d95-a006-493f-9768-41cd3c0652f0",
   "metadata": {},
   "outputs": [
    {
     "data": {
      "text/html": [
       "<div>\n",
       "<style scoped>\n",
       "    .dataframe tbody tr th:only-of-type {\n",
       "        vertical-align: middle;\n",
       "    }\n",
       "\n",
       "    .dataframe tbody tr th {\n",
       "        vertical-align: top;\n",
       "    }\n",
       "\n",
       "    .dataframe thead th {\n",
       "        text-align: right;\n",
       "    }\n",
       "</style>\n",
       "<table border=\"1\" class=\"dataframe\">\n",
       "  <thead>\n",
       "    <tr style=\"text-align: right;\">\n",
       "      <th></th>\n",
       "      <th>case_id</th>\n",
       "      <th>slide_id</th>\n",
       "      <th>label</th>\n",
       "    </tr>\n",
       "  </thead>\n",
       "  <tbody>\n",
       "    <tr>\n",
       "      <th>0</th>\n",
       "      <td>TCGA-3C-AALI</td>\n",
       "      <td>TCGA-3C-AALI-01Z-00-DX1.F6E9A5DF-D8FB-45CF-B4B...</td>\n",
       "      <td>0</td>\n",
       "    </tr>\n",
       "    <tr>\n",
       "      <th>1</th>\n",
       "      <td>TCGA-3C-AALI</td>\n",
       "      <td>TCGA-3C-AALI-01Z-00-DX2.CF4496E0-AB52-4F3E-BDF...</td>\n",
       "      <td>0</td>\n",
       "    </tr>\n",
       "    <tr>\n",
       "      <th>2</th>\n",
       "      <td>TCGA-3C-AALJ</td>\n",
       "      <td>TCGA-3C-AALJ-01Z-00-DX2.62DFE56B-B84C-40F9-962...</td>\n",
       "      <td>0</td>\n",
       "    </tr>\n",
       "    <tr>\n",
       "      <th>3</th>\n",
       "      <td>TCGA-3C-AALK</td>\n",
       "      <td>TCGA-3C-AALK-01Z-00-DX1.4E6EB156-BB19-410F-878...</td>\n",
       "      <td>0</td>\n",
       "    </tr>\n",
       "    <tr>\n",
       "      <th>4</th>\n",
       "      <td>TCGA-5L-AAT1</td>\n",
       "      <td>TCGA-5L-AAT1-01Z-00-DX1.F3449A5B-2AC4-4ED7-BF4...</td>\n",
       "      <td>1</td>\n",
       "    </tr>\n",
       "  </tbody>\n",
       "</table>\n",
       "</div>"
      ],
      "text/plain": [
       "        case_id                                           slide_id  label\n",
       "0  TCGA-3C-AALI  TCGA-3C-AALI-01Z-00-DX1.F6E9A5DF-D8FB-45CF-B4B...      0\n",
       "1  TCGA-3C-AALI  TCGA-3C-AALI-01Z-00-DX2.CF4496E0-AB52-4F3E-BDF...      0\n",
       "2  TCGA-3C-AALJ  TCGA-3C-AALJ-01Z-00-DX2.62DFE56B-B84C-40F9-962...      0\n",
       "3  TCGA-3C-AALK  TCGA-3C-AALK-01Z-00-DX1.4E6EB156-BB19-410F-878...      0\n",
       "4  TCGA-5L-AAT1  TCGA-5L-AAT1-01Z-00-DX1.F3449A5B-2AC4-4ED7-BF4...      1"
      ]
     },
     "execution_count": 3,
     "metadata": {},
     "output_type": "execute_result"
    }
   ],
   "source": [
    "fold_dir = Path(f'data/{dataset_name}/splits/fold_{fold_num}')\n",
    "train_df = pd.read_csv(Path(fold_dir, 'train.csv'))\n",
    "train_df.head()"
   ]
  },
  {
   "cell_type": "code",
   "execution_count": 4,
   "id": "19b8d6cb-82bb-49c3-b5ae-e2ff98238001",
   "metadata": {},
   "outputs": [
    {
     "data": {
      "text/html": [
       "<div>\n",
       "<style scoped>\n",
       "    .dataframe tbody tr th:only-of-type {\n",
       "        vertical-align: middle;\n",
       "    }\n",
       "\n",
       "    .dataframe tbody tr th {\n",
       "        vertical-align: top;\n",
       "    }\n",
       "\n",
       "    .dataframe thead th {\n",
       "        text-align: right;\n",
       "    }\n",
       "</style>\n",
       "<table border=\"1\" class=\"dataframe\">\n",
       "  <thead>\n",
       "    <tr style=\"text-align: right;\">\n",
       "      <th></th>\n",
       "      <th>label</th>\n",
       "      <th>count</th>\n",
       "    </tr>\n",
       "  </thead>\n",
       "  <tbody>\n",
       "    <tr>\n",
       "      <th>0</th>\n",
       "      <td>0</td>\n",
       "      <td>597</td>\n",
       "    </tr>\n",
       "    <tr>\n",
       "      <th>1</th>\n",
       "      <td>1</td>\n",
       "      <td>118</td>\n",
       "    </tr>\n",
       "  </tbody>\n",
       "</table>\n",
       "</div>"
      ],
      "text/plain": [
       "   label  count\n",
       "0      0    597\n",
       "1      1    118"
      ]
     },
     "execution_count": 4,
     "metadata": {},
     "output_type": "execute_result"
    }
   ],
   "source": [
    "train_df.label.value_counts().reset_index().rename(columns={'index': 'label', 'label': 'count'})"
   ]
  },
  {
   "cell_type": "markdown",
   "id": "789f35cd-484d-472b-95b3-90293de93ad3",
   "metadata": {},
   "source": [
    "What do we want to plot:\n",
    "\n",
    "- label distribution\n",
    "- nb slide"
   ]
  },
  {
   "cell_type": "code",
   "execution_count": 5,
   "id": "4b5923f7-ae27-4543-92e3-20f5a1b7b10d",
   "metadata": {},
   "outputs": [],
   "source": [
    "tmp = train_df[['slide_id', 'label']]\n",
    "tmp['subtype'] = tmp['label'].apply(lambda x: 'IDC' if x == 0 else 'ILC')"
   ]
  },
  {
   "cell_type": "code",
   "execution_count": 6,
   "id": "a9d05b06-7805-42e8-8b45-df7ac2b2d5f3",
   "metadata": {},
   "outputs": [
    {
     "data": {
      "image/png": "[encoded data removed]",
      "text/plain": [
       "<Figure size 432x288 with 1 Axes>"
      ]
     },
     "metadata": {
      "needs_background": "light"
     },
     "output_type": "display_data"
    }
   ],
   "source": [
    "ax = sns.countplot(data=tmp, x='subtype')\n",
    "ax.bar_label(ax.containers[0], padding=5)\n",
    "plt.xlabel('label')\n",
    "plt.ylabel('# slide')\n",
    "plt.ylim(0,699)\n",
    "plt.title(f'fold_{fold_num}/train', pad=10)\n",
    "plt.show()"
   ]
  },
  {
   "cell_type": "code",
   "execution_count": 7,
   "id": "ccabe3c8-6c2f-4ef8-8e8a-be0a7f9f6676",
   "metadata": {},
   "outputs": [
    {
     "data": {
      "text/html": [
       "<div>\n",
       "<style scoped>\n",
       "    .dataframe tbody tr th:only-of-type {\n",
       "        vertical-align: middle;\n",
       "    }\n",
       "\n",
       "    .dataframe tbody tr th {\n",
       "        vertical-align: top;\n",
       "    }\n",
       "\n",
       "    .dataframe thead th {\n",
       "        text-align: right;\n",
       "    }\n",
       "</style>\n",
       "<table border=\"1\" class=\"dataframe\">\n",
       "  <thead>\n",
       "    <tr style=\"text-align: right;\">\n",
       "      <th></th>\n",
       "      <th>label</th>\n",
       "      <th>count</th>\n",
       "      <th>subtype</th>\n",
       "    </tr>\n",
       "  </thead>\n",
       "  <tbody>\n",
       "    <tr>\n",
       "      <th>0</th>\n",
       "      <td>0</td>\n",
       "      <td>597</td>\n",
       "      <td>IDC</td>\n",
       "    </tr>\n",
       "    <tr>\n",
       "      <th>1</th>\n",
       "      <td>1</td>\n",
       "      <td>118</td>\n",
       "      <td>ILC</td>\n",
       "    </tr>\n",
       "    <tr>\n",
       "      <th>0</th>\n",
       "      <td>0</td>\n",
       "      <td>587</td>\n",
       "      <td>IDC</td>\n",
       "    </tr>\n",
       "    <tr>\n",
       "      <th>1</th>\n",
       "      <td>1</td>\n",
       "      <td>124</td>\n",
       "      <td>ILC</td>\n",
       "    </tr>\n",
       "    <tr>\n",
       "      <th>0</th>\n",
       "      <td>0</td>\n",
       "      <td>598</td>\n",
       "      <td>IDC</td>\n",
       "    </tr>\n",
       "  </tbody>\n",
       "</table>\n",
       "</div>"
      ],
      "text/plain": [
       "   label  count subtype\n",
       "0      0    597     IDC\n",
       "1      1    118     ILC\n",
       "0      0    587     IDC\n",
       "1      1    124     ILC\n",
       "0      0    598     IDC"
      ]
     },
     "execution_count": 7,
     "metadata": {},
     "output_type": "execute_result"
    }
   ],
   "source": [
    "dfs = []\n",
    "nfold = 10\n",
    "for i in range(nfold):\n",
    "    fold_dir = Path(f'data/{dataset_name}/splits/fold_{i}')\n",
    "    train_df = pd.read_csv(Path(fold_dir, 'train.csv'))\n",
    "    dfs.append(train_df.label.value_counts().reset_index().rename(columns={'index': 'label', 'label': 'count'}))\n",
    "\n",
    "df = pd.concat(dfs)\n",
    "df['subtype'] = df['label'].apply(lambda x: 'IDC' if x == 0 else 'ILC')\n",
    "df.head()"
   ]
  },
  {
   "cell_type": "code",
   "execution_count": 8,
   "id": "54a83959-ce8b-4172-81a0-194ce1f1a847",
   "metadata": {},
   "outputs": [
    {
     "data": {
      "image/png": "[encoded data removed]",
      "text/plain": [
       "<Figure size 432x288 with 1 Axes>"
      ]
     },
     "metadata": {
      "needs_background": "light"
     },
     "output_type": "display_data"
    }
   ],
   "source": [
    "ax = sns.barplot(data=df, x='subtype', y='count', errorbar='sd')\n",
    "ax.bar_label(ax.containers[0], padding=5)\n",
    "plt.xlabel('label')\n",
    "plt.ylabel('# slide')\n",
    "plt.ylim(0,699)\n",
    "plt.title(f'Average Sample Count (train)', pad=10)\n",
    "plt.show()"
   ]
  },
  {
   "cell_type": "code",
   "execution_count": 9,
   "id": "8f497648-efe9-4f68-b573-2d4b7fd47549",
   "metadata": {},
   "outputs": [
    {
     "data": {
      "text/html": [
       "<div>\n",
       "<style scoped>\n",
       "    .dataframe tbody tr th:only-of-type {\n",
       "        vertical-align: middle;\n",
       "    }\n",
       "\n",
       "    .dataframe tbody tr th {\n",
       "        vertical-align: top;\n",
       "    }\n",
       "\n",
       "    .dataframe thead th {\n",
       "        text-align: right;\n",
       "    }\n",
       "</style>\n",
       "<table border=\"1\" class=\"dataframe\">\n",
       "  <thead>\n",
       "    <tr style=\"text-align: right;\">\n",
       "      <th></th>\n",
       "      <th>label</th>\n",
       "      <th>count</th>\n",
       "      <th>partition</th>\n",
       "      <th>subtype</th>\n",
       "    </tr>\n",
       "  </thead>\n",
       "  <tbody>\n",
       "    <tr>\n",
       "      <th>0</th>\n",
       "      <td>0</td>\n",
       "      <td>597</td>\n",
       "      <td>train</td>\n",
       "      <td>IDC</td>\n",
       "    </tr>\n",
       "    <tr>\n",
       "      <th>1</th>\n",
       "      <td>1</td>\n",
       "      <td>118</td>\n",
       "      <td>train</td>\n",
       "      <td>ILC</td>\n",
       "    </tr>\n",
       "    <tr>\n",
       "      <th>0</th>\n",
       "      <td>0</td>\n",
       "      <td>64</td>\n",
       "      <td>tune</td>\n",
       "      <td>IDC</td>\n",
       "    </tr>\n",
       "    <tr>\n",
       "      <th>1</th>\n",
       "      <td>1</td>\n",
       "      <td>15</td>\n",
       "      <td>tune</td>\n",
       "      <td>ILC</td>\n",
       "    </tr>\n",
       "    <tr>\n",
       "      <th>0</th>\n",
       "      <td>0</td>\n",
       "      <td>65</td>\n",
       "      <td>test</td>\n",
       "      <td>IDC</td>\n",
       "    </tr>\n",
       "  </tbody>\n",
       "</table>\n",
       "</div>"
      ],
      "text/plain": [
       "   label  count partition subtype\n",
       "0      0    597     train     IDC\n",
       "1      1    118     train     ILC\n",
       "0      0     64      tune     IDC\n",
       "1      1     15      tune     ILC\n",
       "0      0     65      test     IDC"
      ]
     },
     "execution_count": 9,
     "metadata": {},
     "output_type": "execute_result"
    }
   ],
   "source": [
    "dfs = []\n",
    "nfold = 10\n",
    "for i in range(nfold):\n",
    "    fold_dir = Path(f'data/{dataset_name}/splits/fold_{i}')\n",
    "    for partition in ['train', 'tune', 'test']:\n",
    "        df = pd.read_csv(Path(fold_dir, f'{partition}.csv'))\n",
    "        df = df.label.value_counts().reset_index().rename(columns={'index': 'label', 'label': 'count'})\n",
    "        df['partition'] = [f'{partition}']*len(df)\n",
    "        dfs.append(df)\n",
    "\n",
    "df = pd.concat(dfs)\n",
    "df['subtype'] = df['label'].apply(lambda x: 'IDC' if x == 0 else 'ILC')\n",
    "df.head()"
   ]
  },
  {
   "cell_type": "code",
   "execution_count": 13,
   "id": "19b090d8-d368-4e05-a20d-b63f31e9f739",
   "metadata": {},
   "outputs": [
    {
     "data": {
      "image/png": "[encoded data removed]",
      "text/plain": [
       "<Figure size 600x400 with 1 Axes>"
      ]
     },
     "metadata": {
      "needs_background": "light"
     },
     "output_type": "display_data"
    }
   ],
   "source": [
    "pad = 10\n",
    "save = True\n",
    "\n",
    "plt.figure(dpi=100)\n",
    "ax = sns.barplot(data=df, x='subtype', y='count', hue='partition', errorbar='sd')\n",
    "for i, p in enumerate(ax.patches):\n",
    "    errbar = ax.lines[i].get_data()[1]\n",
    "    std = errbar[1] - errbar[0]\n",
    "    \n",
    "    x, y = p.get_x(), p.get_y()\n",
    "    w, h = p.get_width(), p.get_height()\n",
    "    txt_x, txt_y = x+w/2, h+pad+std*2\n",
    "    \n",
    "    plt.text(txt_x, txt_y, f'{h}', horizontalalignment='center')\n",
    "\n",
    "plt.xlabel('label')\n",
    "plt.ylabel('# slide')\n",
    "plt.ylim(0,699)\n",
    "plt.title(f'Average Sample Count', pad=10)\n",
    "plt.tight_layout()\n",
    "if save:\n",
    "    plt.savefig('average_sample_count.png', dpi=300)\n",
    "plt.show()"
   ]
  },
  {
   "cell_type": "code",
   "execution_count": null,
   "id": "2528c225-21ca-4deb-84a1-b1fd00e10d7f",
   "metadata": {},
   "outputs": [],
   "source": []
  }
 ],
 "metadata": {
  "kernelspec": {
   "display_name": "Python 3 (ipykernel)",
   "language": "python",
   "name": "python3"
  },
  "language_info": {
   "codemirror_mode": {
    "name": "ipython",
    "version": 3
   },
   "file_extension": ".py",
   "mimetype": "text/x-python",
   "name": "python",
   "nbconvert_exporter": "python",
   "pygments_lexer": "ipython3",
   "version": "3.9.10"
  }
 },
 "nbformat": 4,
 "nbformat_minor": 5
}
