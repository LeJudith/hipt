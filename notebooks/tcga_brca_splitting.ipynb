{
 "cells": [
  {
   "cell_type": "markdown",
   "id": "32fb2876-dc88-4d7c-9439-06a85dc84f1e",
   "metadata": {
    "tags": []
   },
   "source": [
    "# HIPT TCGA BRCA Dataset Splitting"
   ]
  },
  {
   "cell_type": "code",
   "execution_count": null,
   "id": "4905f37b-9bc1-414c-8317-ab420197d55e",
   "metadata": {},
   "outputs": [],
   "source": [
    "import os\n",
    "import pandas as pd\n",
    "from pathlib import Path\n",
    "\n",
    "pd.set_option('mode.chained_assignment', None)"
   ]
  },
  {
   "cell_type": "code",
   "execution_count": null,
   "id": "1cb1abaa-d9d4-4fa8-8d36-4685f7b5b76c",
   "metadata": {},
   "outputs": [],
   "source": [
    "os.chdir('/data/pathology/projects/ais-cap/code/git/clemsgrs/hipt')"
   ]
  },
  {
   "cell_type": "markdown",
   "id": "7787c695-00da-47ba-9aea-042cfdaae55d",
   "metadata": {},
   "source": [
    "### Create label dataframe"
   ]
  },
  {
   "cell_type": "markdown",
   "id": "8452fa46-960b-401b-b721-6ff8ad18cdf6",
   "metadata": {},
   "source": [
    "get HIPT brca slide ids"
   ]
  },
  {
   "cell_type": "code",
   "execution_count": null,
   "id": "eb63bcc9-aa0c-424d-8d44-27aa683e7ed1",
   "metadata": {},
   "outputs": [],
   "source": [
    "hipt_dir = Path('/data/pathology/projects/ais-cap/code/git/opensource/HIPT')"
   ]
  },
  {
   "cell_type": "code",
   "execution_count": null,
   "id": "5fadf9d8-dbfd-4417-93f8-9c6b9b382908",
   "metadata": {},
   "outputs": [],
   "source": [
    "fold_0_fp = Path(hipt_dir, '2-Weakly-Supervised-Subtyping/splits/10foldcv_subtype/tcga_brca/splits_0.csv')\n",
    "df = pd.read_csv(fold_0_fp, index_col=0)"
   ]
  },
  {
   "cell_type": "code",
   "execution_count": null,
   "id": "e8ea5e56-eb01-4449-8c4b-abdea87070b4",
   "metadata": {},
   "outputs": [],
   "source": [
    "hipt_train_brca = list(df['train'].dropna().unique())\n",
    "hipt_tune_brca = list(df['val'].dropna().unique())\n",
    "hipt_test_brca = list(df['test'].dropna().unique())"
   ]
  },
  {
   "cell_type": "code",
   "execution_count": null,
   "id": "2ff5413c-b487-487b-8273-8d30ade8ae73",
   "metadata": {},
   "outputs": [],
   "source": [
    "hipt_train_brca = set(hipt_train_brca)\n",
    "hipt_tune_brca = set(hipt_tune_brca)\n",
    "hipt_test_brca = set(hipt_test_brca)"
   ]
  },
  {
   "cell_type": "code",
   "execution_count": null,
   "id": "24f69dfe-0a07-4bd8-a794-efb1a29ebfb0",
   "metadata": {},
   "outputs": [],
   "source": [
    "hipt_brca = hipt_train_brca | hipt_tune_brca | hipt_test_brca\n",
    "len(hipt_brca)"
   ]
  },
  {
   "cell_type": "code",
   "execution_count": null,
   "id": "78c5f62f-24a8-45d5-880b-c21cab037b58",
   "metadata": {},
   "outputs": [],
   "source": [
    "hipt_labels_csv_path = Path(hipt_dir, '2-Weakly-Supervised-Subtyping/dataset_csv/tcga_brca_subset.csv.zip')\n",
    "hipt_labels_df = pd.read_csvhipt_labels_csv_path(, index_col=0)\n",
    "hipt_labels_df['slide_id'] = hipt_labels_df['slide_id'].apply(lambda x: Path(x).stem)"
   ]
  },
  {
   "cell_type": "code",
   "execution_count": null,
   "id": "96f529c5-fe99-4fbc-85af-3be7dc4cb473",
   "metadata": {},
   "outputs": [],
   "source": [
    "hipt_fold_labels_df = hipt_labels_df[hipt_labels_df['slide_id'].isin(hipt_brca)]\n",
    "hipt_fold_labels_df.slide_id.dropna().nunique()"
   ]
  },
  {
   "cell_type": "code",
   "execution_count": null,
   "id": "00a97d19-5b59-4708-aac4-ceec87616fe9",
   "metadata": {},
   "outputs": [],
   "source": [
    "hipt_fold_labels_df.oncotree_code.value_counts(dropna=False)"
   ]
  },
  {
   "cell_type": "code",
   "execution_count": null,
   "id": "c7e275a2-c160-4b30-8c40-55a1187b3584",
   "metadata": {},
   "outputs": [],
   "source": [
    "def map_otc_to_int(otc: str, missing_label: int = -1):\n",
    "    if otc == 'IDC':\n",
    "        return 0\n",
    "    elif otc == 'ILC':\n",
    "        return 1\n",
    "    else:\n",
    "        return missing_label"
   ]
  },
  {
   "cell_type": "code",
   "execution_count": null,
   "id": "f18d89c6-71dc-4a9f-9627-3ee3d50e2828",
   "metadata": {},
   "outputs": [],
   "source": [
    "hipt_fold_labels_df['label'] = hipt_fold_labels_df['oncotree_code'].apply(map_otc_to_int)"
   ]
  },
  {
   "cell_type": "code",
   "execution_count": null,
   "id": "56253a4e-b11b-42c1-99a7-0cc76adb5e71",
   "metadata": {},
   "outputs": [],
   "source": [
    "hipt_fold_labels_df.train.value_counts(dropna=False)"
   ]
  },
  {
   "cell_type": "code",
   "execution_count": null,
   "id": "31a9ea16-9c5a-4194-b907-f13fe1066440",
   "metadata": {},
   "outputs": [],
   "source": [
    "len(label_df)"
   ]
  },
  {
   "cell_type": "code",
   "execution_count": null,
   "id": "4663658a-d67d-42ed-bd31-49bb6b564e92",
   "metadata": {},
   "outputs": [],
   "source": [
    "cols_to_drop = ['train']\n",
    "label_df = hipt_fold_labels_df.drop(columns=cols_to_drop)\n",
    "label_df.to_csv('data/tcga_brca/labels.csv', index=False)"
   ]
  },
  {
   "cell_type": "markdown",
   "id": "c93dbaaa-3d97-4152-a96f-419bd7985efd",
   "metadata": {},
   "source": [
    "### Load HIPT slides"
   ]
  },
  {
   "cell_type": "code",
   "execution_count": null,
   "id": "290ae6e4-cbb7-44dd-81db-efb2dd1088cf",
   "metadata": {},
   "outputs": [],
   "source": [
    "nfold = 10\n",
    "cols = ['case_id', 'slide_id', 'label']\n",
    "for i in range(nfold):\n",
    "    fold_fp = Path(hipt_dir, f'2-Weakly-Supervised-Subtyping/splits/10foldcv_subtype/tcga_brca/splits_{i}.csv')\n",
    "    df = pd.read_csv(fold_fp, index_col=0)\n",
    "    # retrieve train/tune/test slide ids\n",
    "    train = [s for s in list(df['train'].dropna().unique()) if s in label_df.slide_id.unique()]\n",
    "    tune = [s for s in list(df['val'].dropna().unique()) if s in label_df.slide_id.unique()]\n",
    "    test = [s for s in list(df['test'].dropna().unique()) if s in label_df.slide_id.unique()]\n",
    "    # create train/tune/test label dataframes\n",
    "    train_df = label_df[label_df['slide_id'].isin(train)][cols]\n",
    "    tune_df = label_df[label_df['slide_id'].isin(tune)][cols]\n",
    "    test_df = label_df[label_df['slide_id'].isin(test)][cols]\n",
    "    # save train/tune/test label df to disk\n",
    "    split_dir = Path(f'data/tcga_brca/splits/fold_{i}')\n",
    "    split_dir.mkdir(parents=True, exist_ok=True)\n",
    "    train_df.to_csv(Path(split_dir, f'train.csv'), index=False)\n",
    "    tune_df.to_csv(Path(split_dir, f'tune.csv'), index=False)\n",
    "    test_df.to_csv(Path(split_dir, f'test.csv'), index=False)"
   ]
  },
  {
   "cell_type": "code",
   "execution_count": null,
   "id": "6a4b0861-7142-4860-bdc2-314c535af99e",
   "metadata": {},
   "outputs": [],
   "source": []
  }
 ],
 "metadata": {
  "kernelspec": {
   "display_name": "Python 3 (ipykernel)",
   "language": "python",
   "name": "python3"
  },
  "language_info": {
   "codemirror_mode": {
    "name": "ipython",
    "version": 3
   },
   "file_extension": ".py",
   "mimetype": "text/x-python",
   "name": "python",
   "nbconvert_exporter": "python",
   "pygments_lexer": "ipython3",
   "version": "3.9.10"
  }
 },
 "nbformat": 4,
 "nbformat_minor": 5
}
