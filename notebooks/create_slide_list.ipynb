{
 "cells": [
  {
   "cell_type": "markdown",
   "id": "785aed85-dccb-4f03-9c35-620d524a7c2c",
   "metadata": {},
   "source": [
    "# Create slide list for training"
   ]
  },
  {
   "cell_type": "code",
   "execution_count": null,
   "id": "08ee8ffd-a0b7-408f-bd02-ab4141c3a3cf",
   "metadata": {},
   "outputs": [],
   "source": [
    "from pathlib import Path"
   ]
  },
  {
   "cell_type": "code",
   "execution_count": null,
   "id": "7a80f531-5ee1-49a5-b7d3-488154b9359c",
   "metadata": {},
   "outputs": [],
   "source": [
    "level = 'local'\n",
    "# level = 'global'"
   ]
  },
  {
   "cell_type": "code",
   "execution_count": null,
   "id": "fbbbe288-0dd9-48a7-b5d4-cca36207445a",
   "metadata": {},
   "outputs": [],
   "source": [
    "dataset_name = 'tcga_brca'\n",
    "features_root_dir = Path(f'/home/user/code/git/clemsgrs/hipt/output/{dataset_name}/features/{level}')"
   ]
  },
  {
   "cell_type": "code",
   "execution_count": null,
   "id": "a6996266-e19b-44c2-8fa9-d09997be5510",
   "metadata": {},
   "outputs": [],
   "source": [
    "slide_ids = [s.stem for s in features_root_dir.glob('*.pt')]\n",
    "len(slide_ids)"
   ]
  },
  {
   "cell_type": "code",
   "execution_count": null,
   "id": "170e60a9-59c7-4ae0-bb1d-c6dedaa694d6",
   "metadata": {},
   "outputs": [],
   "source": [
    "slide_ids[0]"
   ]
  },
  {
   "cell_type": "code",
   "execution_count": null,
   "id": "cf01beef-abaa-4054-8f27-755e387be120",
   "metadata": {},
   "outputs": [],
   "source": [
    "slide_list_fp = Path(f'/home/user/code/git/clemsgrs/hipt/data/{dataset_name}/slide_list.txt')\n",
    "with open(slide_list_fp, 'w') as f:\n",
    "    for s in slide_ids:\n",
    "        f.write(f'{s}\\n')\n",
    "f.close()"
   ]
  },
  {
   "cell_type": "code",
   "execution_count": null,
   "id": "f77a7cb0-bdb5-4641-9c80-135d15d64cd7",
   "metadata": {},
   "outputs": [],
   "source": []
  }
 ],
 "metadata": {
  "kernelspec": {
   "display_name": "Python 3.9.10 64-bit",
   "language": "python",
   "name": "python3"
  },
  "language_info": {
   "codemirror_mode": {
    "name": "ipython",
    "version": 3
   },
   "file_extension": ".py",
   "mimetype": "text/x-python",
   "name": "python",
   "nbconvert_exporter": "python",
   "pygments_lexer": "ipython3",
   "version": "3.9.10"
  },
  "vscode": {
   "interpreter": {
    "hash": "aee8b7b246df8f9039afb4144a1f6fd8d2ca17a180786b69acc140d282b71a49"
   }
  }
 },
 "nbformat": 4,
 "nbformat_minor": 5
}
