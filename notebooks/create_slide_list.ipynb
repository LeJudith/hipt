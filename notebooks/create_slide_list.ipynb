{
 "cells": [
  {
   "cell_type": "markdown",
   "id": "785aed85-dccb-4f03-9c35-620d524a7c2c",
   "metadata": {},
   "source": [
    "# Create slide list for training"
   ]
  },
  {
   "cell_type": "code",
   "execution_count": 1,
   "id": "08ee8ffd-a0b7-408f-bd02-ab4141c3a3cf",
   "metadata": {},
   "outputs": [],
   "source": [
    "from pathlib import Path"
   ]
  },
  {
   "cell_type": "markdown",
   "id": "ccedc851-acf5-4195-8723-3408491e1b68",
   "metadata": {
    "tags": []
   },
   "source": [
    "### TCGA BRCA"
   ]
  },
  {
   "cell_type": "code",
   "execution_count": 7,
   "id": "7a80f531-5ee1-49a5-b7d3-488154b9359c",
   "metadata": {},
   "outputs": [],
   "source": [
    "# level = 'local'\n",
    "level = 'global'"
   ]
  },
  {
   "cell_type": "code",
   "execution_count": 8,
   "id": "fbbbe288-0dd9-48a7-b5d4-cca36207445a",
   "metadata": {},
   "outputs": [],
   "source": [
    "dataset_name = 'tcga_brca'\n",
    "features_root_dir = Path(f'/home/user/code/git/clemsgrs/hipt/output/{dataset_name}/features/{level}')"
   ]
  },
  {
   "cell_type": "code",
   "execution_count": 9,
   "id": "a6996266-e19b-44c2-8fa9-d09997be5510",
   "metadata": {},
   "outputs": [
    {
     "data": {
      "text/plain": [
       "875"
      ]
     },
     "execution_count": 9,
     "metadata": {},
     "output_type": "execute_result"
    }
   ],
   "source": [
    "slide_ids = [s.stem for s in features_root_dir.glob('*.pt')]\n",
    "len(slide_ids)"
   ]
  },
  {
   "cell_type": "code",
   "execution_count": 10,
   "id": "170e60a9-59c7-4ae0-bb1d-c6dedaa694d6",
   "metadata": {},
   "outputs": [
    {
     "data": {
      "text/plain": [
       "'TCGA-E2-A152-01Z-00-DX1.B0860DEB-D34B-4C5D-97F5-C1C646437424'"
      ]
     },
     "execution_count": 10,
     "metadata": {},
     "output_type": "execute_result"
    }
   ],
   "source": [
    "slide_ids[0]"
   ]
  },
  {
   "cell_type": "code",
   "execution_count": 6,
   "id": "cf01beef-abaa-4054-8f27-755e387be120",
   "metadata": {},
   "outputs": [],
   "source": [
    "slide_list_fp = Path(f'/home/user/code/git/clemsgrs/hipt/data/{dataset_name}/slide_list.txt')\n",
    "with open(slide_list_fp, 'w') as f:\n",
    "    for s in slide_ids:\n",
    "        f.write(f'{s}\\n')\n",
    "f.close()"
   ]
  },
  {
   "cell_type": "markdown",
   "id": "17596618-2039-4ed6-9e4f-aee45051bf58",
   "metadata": {
    "jp-MarkdownHeadingCollapsed": true,
    "tags": []
   },
   "source": [
    "### PANDA Radboud"
   ]
  },
  {
   "cell_type": "code",
   "execution_count": 2,
   "id": "3c3a9461-c6c9-4d50-9d9a-f1430d5bc448",
   "metadata": {},
   "outputs": [],
   "source": [
    "slide_dir = Path('/home/user/code/git/clemsgrs/hs2p/data/panda_radboud/slides')"
   ]
  },
  {
   "cell_type": "code",
   "execution_count": 3,
   "id": "86f66e39-6073-4891-9291-49b7295e1821",
   "metadata": {},
   "outputs": [
    {
     "data": {
      "text/plain": [
       "5688"
      ]
     },
     "execution_count": 3,
     "metadata": {},
     "output_type": "execute_result"
    }
   ],
   "source": [
    "slide_ids = [s.stem for s in slide_dir.glob('*.tif')]\n",
    "len(slide_ids)"
   ]
  },
  {
   "cell_type": "code",
   "execution_count": 5,
   "id": "d4372cd3-5385-4460-81fd-9e6b50965f4b",
   "metadata": {},
   "outputs": [
    {
     "data": {
      "text/plain": [
       "'PANDA_C1_1352'"
      ]
     },
     "execution_count": 5,
     "metadata": {},
     "output_type": "execute_result"
    }
   ],
   "source": [
    "slide_ids[0]"
   ]
  },
  {
   "cell_type": "code",
   "execution_count": 6,
   "id": "bc5f23bb-4faf-4de1-ae8d-e60bf270a6d3",
   "metadata": {},
   "outputs": [],
   "source": [
    "slide_list_fp = Path('/home/user/code/git/clemsgrs/hs2p/data/panda_radboud/slide_list.txt')\n",
    "with open(slide_list_fp, 'w') as f:\n",
    "    for s in slide_ids:\n",
    "        f.write(f'{s}.tif\\n')\n",
    "f.close()"
   ]
  },
  {
   "cell_type": "markdown",
   "id": "31969484-a886-4650-9d12-264d096868f1",
   "metadata": {
    "jp-MarkdownHeadingCollapsed": true,
    "tags": []
   },
   "source": [
    "### PANDA Radboud features"
   ]
  },
  {
   "cell_type": "code",
   "execution_count": 6,
   "id": "312f6404-012d-4cec-bcde-4bc870c26550",
   "metadata": {},
   "outputs": [],
   "source": [
    "level = 'global'"
   ]
  },
  {
   "cell_type": "code",
   "execution_count": 7,
   "id": "244d41c5-e147-4dfa-baa1-8b821c3b5738",
   "metadata": {},
   "outputs": [],
   "source": [
    "dataset_name = 'panda_radboud'\n",
    "features_root_dir = Path(f'/home/user/code/git/clemsgrs/hipt/output/{dataset_name}/features/{level}')"
   ]
  },
  {
   "cell_type": "code",
   "execution_count": 8,
   "id": "0be9e970-22ec-4585-be9c-0ba86de61549",
   "metadata": {},
   "outputs": [
    {
     "data": {
      "text/plain": [
       "1901"
      ]
     },
     "execution_count": 8,
     "metadata": {},
     "output_type": "execute_result"
    }
   ],
   "source": [
    "slide_ids = [s.stem for s in features_root_dir.glob('*.pt')]\n",
    "len(slide_ids)"
   ]
  },
  {
   "cell_type": "code",
   "execution_count": 9,
   "id": "44ebeaae-cd9e-43c1-9aae-ba7bf436efbd",
   "metadata": {},
   "outputs": [
    {
     "data": {
      "text/plain": [
       "'PANDA_C1_0028'"
      ]
     },
     "execution_count": 9,
     "metadata": {},
     "output_type": "execute_result"
    }
   ],
   "source": [
    "slide_ids[0]"
   ]
  },
  {
   "cell_type": "code",
   "execution_count": 10,
   "id": "54ddb79f-cf53-4af1-940d-3310d1fd40de",
   "metadata": {},
   "outputs": [],
   "source": [
    "slide_list_fp = Path(f'/home/user/code/git/clemsgrs/hipt/data/{dataset_name}/slide_list.txt')\n",
    "with open(slide_list_fp, 'w') as f:\n",
    "    for s in slide_ids:\n",
    "        f.write(f'{s}\\n')\n",
    "f.close()"
   ]
  },
  {
   "cell_type": "code",
   "execution_count": 11,
   "id": "5138c1cf-63f9-4e33-8647-05167978e75c",
   "metadata": {},
   "outputs": [
    {
     "data": {
      "text/plain": [
       "False"
      ]
     },
     "execution_count": 11,
     "metadata": {},
     "output_type": "execute_result"
    }
   ],
   "source": [
    "'PANDA_C1_3617' in slide_ids"
   ]
  },
  {
   "cell_type": "code",
   "execution_count": null,
   "id": "bada845b-1197-4569-820b-efd0867712c2",
   "metadata": {},
   "outputs": [],
   "source": []
  }
 ],
 "metadata": {
  "kernelspec": {
   "display_name": "Python 3 (ipykernel)",
   "language": "python",
   "name": "python3"
  },
  "language_info": {
   "codemirror_mode": {
    "name": "ipython",
    "version": 3
   },
   "file_extension": ".py",
   "mimetype": "text/x-python",
   "name": "python",
   "nbconvert_exporter": "python",
   "pygments_lexer": "ipython3",
   "version": "3.9.10"
  },
  "vscode": {
   "interpreter": {
    "hash": "aee8b7b246df8f9039afb4144a1f6fd8d2ca17a180786b69acc140d282b71a49"
   }
  }
 },
 "nbformat": 4,
 "nbformat_minor": 5
}
