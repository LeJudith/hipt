{
 "cells": [
  {
   "cell_type": "markdown",
   "id": "c5f9d33a-c4e1-4984-8a01-8ebb4402c96a",
   "metadata": {},
   "source": [
    "# Symlink patches"
   ]
  },
  {
   "cell_type": "code",
   "execution_count": 7,
   "id": "63663596-c1f0-4854-8895-b98786469390",
   "metadata": {},
   "outputs": [],
   "source": [
    "import os\n",
    "import tqdm\n",
    "import shutil\n",
    "from pathlib import Path"
   ]
  },
  {
   "cell_type": "code",
   "execution_count": null,
   "id": "1ded8049-264b-4ede-89d4-b733e280066d",
   "metadata": {},
   "outputs": [],
   "source": [
    "os.chdir('/data/pathology/projects/ais-cap/code/git/clemsgrs/hipt')"
   ]
  },
  {
   "cell_type": "code",
   "execution_count": 2,
   "id": "a0b243f4-bfb8-4b58-b5d5-6877dc702a0d",
   "metadata": {},
   "outputs": [],
   "source": [
    "root_dir = Path('/data/pathology/projects/ais-cap/code/git/clemsgrs/hs2p')"
   ]
  },
  {
   "cell_type": "code",
   "execution_count": 3,
   "id": "31524c55-adeb-4424-b0bc-dcf8c5919639",
   "metadata": {},
   "outputs": [],
   "source": [
    "dataset_name = 'tcga_brca'\n",
    "patch_dir = Path(root_dir, 'output', dataset_name, 'patches')"
   ]
  },
  {
   "cell_type": "code",
   "execution_count": 12,
   "id": "97b5ccd3-810e-4582-9725-262ea4436e10",
   "metadata": {},
   "outputs": [],
   "source": [
    "output_dir = Path(f'data/{dataset_name}/patches')\n",
    "try:\n",
    "    output_dir.mkdir(parents=True)\n",
    "except:\n",
    "    shutil.rmtree(output_dir)\n",
    "    output_dir.mkdir(parents=True)"
   ]
  },
  {
   "cell_type": "code",
   "execution_count": 13,
   "id": "8040b215-511d-40fc-bcc4-30056611a2ea",
   "metadata": {},
   "outputs": [],
   "source": [
    "patch_size = 4096\n",
    "fmt = 'jpg'"
   ]
  },
  {
   "cell_type": "code",
   "execution_count": 16,
   "id": "9c8ef3cf-abe7-40c2-9ca1-9e2c09426361",
   "metadata": {},
   "outputs": [
    {
     "name": "stderr",
     "output_type": "stream",
     "text": [
      "Generating Symlinks: 100%|████████████████████████████████████████| 1/1 [00:04<00:00,  4.12s/ slide]\n"
     ]
    }
   ],
   "source": [
    "# with open(Path(root_dir, f'data/{dataset_name}/slide_list.txt'), 'r') as f:\n",
    "with open(f'data/{dataset_name}/toy_list.txt', 'r') as f:\n",
    "    slide_ids = sorted([Path(s.strip()).stem for s in f.readlines()])\n",
    "    with tqdm.tqdm(\n",
    "        slide_ids,\n",
    "        desc=(f'Generating Symlinks'),\n",
    "        unit=' slide',\n",
    "        ncols=100,\n",
    "    ) as t:      \n",
    "        for s in t:\n",
    "            src_dir = Path(patch_dir, s, str(patch_size), fmt)\n",
    "            dst_dir = Path(output_dir, s, str(patch_size), fmt)\n",
    "            dst_dir.mkdir(exist_ok=True, parents=True)\n",
    "            patches = [p.name for p in src.glob(f'*.{fmt}')]\n",
    "            for patch in patches:\n",
    "                src = Path(src_dir, patch)\n",
    "                dst = Path(dst_dir, patch)\n",
    "                dst.symlink_to(src)\n",
    "                t.update(1/len(patches)/len(slide_ids))"
   ]
  },
  {
   "cell_type": "markdown",
   "id": "f49a753e-be07-45dc-bfec-ee5846b47fc6",
   "metadata": {},
   "source": [
    "### Get average number of patches per slide"
   ]
  },
  {
   "cell_type": "code",
   "execution_count": 17,
   "id": "6508e0a0-16b0-4ce2-85bb-69494aa332b7",
   "metadata": {},
   "outputs": [],
   "source": [
    "import numpy as np\n",
    "import pandas as pd\n",
    "from collections import defaultdict"
   ]
  },
  {
   "cell_type": "code",
   "execution_count": 18,
   "id": "d4a9a65f-3b7b-4d73-9542-a0c7a83e3cbb",
   "metadata": {},
   "outputs": [
    {
     "data": {
      "text/plain": [
       "93"
      ]
     },
     "execution_count": 18,
     "metadata": {},
     "output_type": "execute_result"
    }
   ],
   "source": [
    "slide_patches = [s for s in patch_dir.iterdir()]\n",
    "len(slide_patches)"
   ]
  },
  {
   "cell_type": "code",
   "execution_count": 19,
   "id": "9a1ae6d2-3392-410e-97a7-497fecaaeff2",
   "metadata": {},
   "outputs": [],
   "source": [
    "data = defaultdict(list)\n",
    "for d in slide_patches:\n",
    "    slide_dir = Path(d, str(patch_size), fmt)\n",
    "    m = len(list(slide_dir.glob(f'*.{fmt}')))\n",
    "    data['slide_id'].append(d.name)\n",
    "    data['M'].append(m)"
   ]
  },
  {
   "cell_type": "code",
   "execution_count": 20,
   "id": "ae8963bc-e520-4123-994c-8144ce601fb7",
   "metadata": {},
   "outputs": [
    {
     "data": {
      "text/html": [
       "<div>\n",
       "<style scoped>\n",
       "    .dataframe tbody tr th:only-of-type {\n",
       "        vertical-align: middle;\n",
       "    }\n",
       "\n",
       "    .dataframe tbody tr th {\n",
       "        vertical-align: top;\n",
       "    }\n",
       "\n",
       "    .dataframe thead th {\n",
       "        text-align: right;\n",
       "    }\n",
       "</style>\n",
       "<table border=\"1\" class=\"dataframe\">\n",
       "  <thead>\n",
       "    <tr style=\"text-align: right;\">\n",
       "      <th></th>\n",
       "      <th>slide_id</th>\n",
       "      <th>M</th>\n",
       "    </tr>\n",
       "  </thead>\n",
       "  <tbody>\n",
       "    <tr>\n",
       "      <th>0</th>\n",
       "      <td>TCGA-A2-A0YK-01Z-00-DX1.FB23FC30-B3B2-452A-A6B...</td>\n",
       "      <td>196</td>\n",
       "    </tr>\n",
       "    <tr>\n",
       "      <th>1</th>\n",
       "      <td>TCGA-A2-A0EW-01Z-00-DX1.F24495CB-63D8-483F-983...</td>\n",
       "      <td>135</td>\n",
       "    </tr>\n",
       "    <tr>\n",
       "      <th>2</th>\n",
       "      <td>TCGA-A2-A0SU-01Z-00-DX1.22420EE2-4FEB-42F3-954...</td>\n",
       "      <td>279</td>\n",
       "    </tr>\n",
       "    <tr>\n",
       "      <th>3</th>\n",
       "      <td>TCGA-A2-A0CW-01Z-00-DX1.8E313A22-B0E8-44CF-ADE...</td>\n",
       "      <td>167</td>\n",
       "    </tr>\n",
       "    <tr>\n",
       "      <th>4</th>\n",
       "      <td>TCGA-A2-A0T0-01Z-00-DX1.51F904DA-A4B5-4451-8AE...</td>\n",
       "      <td>205</td>\n",
       "    </tr>\n",
       "  </tbody>\n",
       "</table>\n",
       "</div>"
      ],
      "text/plain": [
       "                                            slide_id    M\n",
       "0  TCGA-A2-A0YK-01Z-00-DX1.FB23FC30-B3B2-452A-A6B...  196\n",
       "1  TCGA-A2-A0EW-01Z-00-DX1.F24495CB-63D8-483F-983...  135\n",
       "2  TCGA-A2-A0SU-01Z-00-DX1.22420EE2-4FEB-42F3-954...  279\n",
       "3  TCGA-A2-A0CW-01Z-00-DX1.8E313A22-B0E8-44CF-ADE...  167\n",
       "4  TCGA-A2-A0T0-01Z-00-DX1.51F904DA-A4B5-4451-8AE...  205"
      ]
     },
     "execution_count": 20,
     "metadata": {},
     "output_type": "execute_result"
    }
   ],
   "source": [
    "M_df = pd.DataFrame.from_dict(data)\n",
    "M_df.head()"
   ]
  },
  {
   "cell_type": "code",
   "execution_count": 21,
   "id": "e16265af-e360-4e6e-b0d0-3e01fb63cef6",
   "metadata": {},
   "outputs": [
    {
     "data": {
      "text/plain": [
       "208.16129032258064"
      ]
     },
     "execution_count": 21,
     "metadata": {},
     "output_type": "execute_result"
    }
   ],
   "source": [
    "M_df.M.mean()"
   ]
  },
  {
   "cell_type": "code",
   "execution_count": 22,
   "id": "7efc00fa-6231-4977-92ac-1def98aea175",
   "metadata": {},
   "outputs": [],
   "source": [
    "import pandas as pd\n",
    "import seaborn as sns\n",
    "import matplotlib.pyplot as plt"
   ]
  },
  {
   "cell_type": "code",
   "execution_count": 23,
   "id": "17608b9e-d9b3-4ae8-8214-234f0ba37374",
   "metadata": {},
   "outputs": [
    {
     "data": {
      "text/html": [
       "<div>\n",
       "<style scoped>\n",
       "    .dataframe tbody tr th:only-of-type {\n",
       "        vertical-align: middle;\n",
       "    }\n",
       "\n",
       "    .dataframe tbody tr th {\n",
       "        vertical-align: top;\n",
       "    }\n",
       "\n",
       "    .dataframe thead th {\n",
       "        text-align: right;\n",
       "    }\n",
       "</style>\n",
       "<table border=\"1\" class=\"dataframe\">\n",
       "  <thead>\n",
       "    <tr style=\"text-align: right;\">\n",
       "      <th></th>\n",
       "      <th>avg_M</th>\n",
       "      <th>partition</th>\n",
       "    </tr>\n",
       "  </thead>\n",
       "  <tbody>\n",
       "    <tr>\n",
       "      <th>0</th>\n",
       "      <td>214.800000</td>\n",
       "      <td>train</td>\n",
       "    </tr>\n",
       "    <tr>\n",
       "      <th>0</th>\n",
       "      <td>181.750000</td>\n",
       "      <td>tune</td>\n",
       "    </tr>\n",
       "    <tr>\n",
       "      <th>0</th>\n",
       "      <td>179.500000</td>\n",
       "      <td>test</td>\n",
       "    </tr>\n",
       "    <tr>\n",
       "      <th>0</th>\n",
       "      <td>200.275362</td>\n",
       "      <td>train</td>\n",
       "    </tr>\n",
       "    <tr>\n",
       "      <th>0</th>\n",
       "      <td>227.538462</td>\n",
       "      <td>tune</td>\n",
       "    </tr>\n",
       "  </tbody>\n",
       "</table>\n",
       "</div>"
      ],
      "text/plain": [
       "        avg_M partition\n",
       "0  214.800000     train\n",
       "0  181.750000      tune\n",
       "0  179.500000      test\n",
       "0  200.275362     train\n",
       "0  227.538462      tune"
      ]
     },
     "execution_count": 23,
     "metadata": {},
     "output_type": "execute_result"
    }
   ],
   "source": [
    "nslide = defaultdict(list)\n",
    "dfs = []\n",
    "nfold = 10\n",
    "for i in range(nfold):\n",
    "    fold_dir = Path(f'data/{dataset_name}/splits/fold_{i}')\n",
    "    for partition in ['train', 'tune', 'test']:\n",
    "        df = pd.read_csv(Path(fold_dir, f'{partition}.csv'))\n",
    "        nslide[partition].append(len(df))\n",
    "        df = M_df.merge(df, how='inner', on='slide_id')\n",
    "        M = df.M.mean()\n",
    "        tmp = pd.DataFrame.from_dict({'avg_M': [M], 'partition': [partition]})\n",
    "        dfs.append(tmp)\n",
    "        \n",
    "df = pd.concat(dfs)\n",
    "df.head()"
   ]
  },
  {
   "cell_type": "code",
   "execution_count": 24,
   "id": "60461efe-03e2-4a2b-a16e-ba9064d45039",
   "metadata": {},
   "outputs": [
    {
     "data": {
      "text/plain": [
       "[712.9, 79.9, 82.2]"
      ]
     },
     "execution_count": 24,
     "metadata": {},
     "output_type": "execute_result"
    }
   ],
   "source": [
    "avg_nslide = [np.mean(nslide[p]) for p in ['train', 'tune', 'test']]\n",
    "avg_nslide"
   ]
  },
  {
   "cell_type": "code",
   "execution_count": 26,
   "id": "30af2ecc-0e3e-4792-91d3-6ae921be2149",
   "metadata": {},
   "outputs": [
    {
     "data": {
      "image/png": "[encoded data removed]",
      "text/plain": [
       "<Figure size 600x400 with 1 Axes>"
      ]
     },
     "metadata": {
      "needs_background": "light"
     },
     "output_type": "display_data"
    }
   ],
   "source": [
    "pad = 10\n",
    "save = False\n",
    "\n",
    "plt.figure(dpi=100)\n",
    "ax = sns.barplot(data=df, y='avg_M', x='partition', errorbar='sd')\n",
    "for i, p in enumerate(ax.patches):\n",
    "    errbar = ax.lines[i].get_data()[1]\n",
    "    std = errbar[1] - errbar[0]\n",
    "    \n",
    "    x, y = p.get_x(), p.get_y()\n",
    "    w, h = p.get_width(), p.get_height()\n",
    "    txt_x, txt_y = x+w/2, h+std/2+pad\n",
    "    \n",
    "    plt.text(txt_x, txt_y, f'{h:.1f}', horizontalalignment='center')\n",
    "    \n",
    "    n = avg_nslide[i]\n",
    "    plt.text(x+w/2, h/2, f'~{n:.0f} slides', horizontalalignment='center', verticalalignment='bottom', fontsize='small', color='white')\n",
    "\n",
    "plt.xlabel('partition')\n",
    "plt.ylabel('average #region per slide')\n",
    "plt.ylim(0,df.avg_M.max()*1.2)\n",
    "plt.title(f'Average number of [4096,4096] region per slide', pad=10)\n",
    "plt.tight_layout()\n",
    "if save:\n",
    "    plt.savefig('average_sample_count.png', dpi=300)\n",
    "plt.show()"
   ]
  },
  {
   "cell_type": "markdown",
   "id": "68ec000e-bf65-419d-94f8-821cde9687ad",
   "metadata": {},
   "source": [
    "### Breakdown per subtype"
   ]
  },
  {
   "cell_type": "code",
   "execution_count": 27,
   "id": "60e0d76f-30b2-4c03-9025-23c11dadb47d",
   "metadata": {},
   "outputs": [
    {
     "data": {
      "text/html": [
       "<div>\n",
       "<style scoped>\n",
       "    .dataframe tbody tr th:only-of-type {\n",
       "        vertical-align: middle;\n",
       "    }\n",
       "\n",
       "    .dataframe tbody tr th {\n",
       "        vertical-align: top;\n",
       "    }\n",
       "\n",
       "    .dataframe thead th {\n",
       "        text-align: right;\n",
       "    }\n",
       "</style>\n",
       "<table border=\"1\" class=\"dataframe\">\n",
       "  <thead>\n",
       "    <tr style=\"text-align: right;\">\n",
       "      <th></th>\n",
       "      <th>avg_M</th>\n",
       "      <th>partition</th>\n",
       "      <th>subtype</th>\n",
       "    </tr>\n",
       "  </thead>\n",
       "  <tbody>\n",
       "    <tr>\n",
       "      <th>0</th>\n",
       "      <td>209.190476</td>\n",
       "      <td>train</td>\n",
       "      <td>IDC</td>\n",
       "    </tr>\n",
       "    <tr>\n",
       "      <th>0</th>\n",
       "      <td>244.250000</td>\n",
       "      <td>train</td>\n",
       "      <td>ILC</td>\n",
       "    </tr>\n",
       "    <tr>\n",
       "      <th>0</th>\n",
       "      <td>197.142857</td>\n",
       "      <td>tune</td>\n",
       "      <td>IDC</td>\n",
       "    </tr>\n",
       "    <tr>\n",
       "      <th>0</th>\n",
       "      <td>74.000000</td>\n",
       "      <td>tune</td>\n",
       "      <td>ILC</td>\n",
       "    </tr>\n",
       "    <tr>\n",
       "      <th>0</th>\n",
       "      <td>171.500000</td>\n",
       "      <td>test</td>\n",
       "      <td>IDC</td>\n",
       "    </tr>\n",
       "  </tbody>\n",
       "</table>\n",
       "</div>"
      ],
      "text/plain": [
       "        avg_M partition subtype\n",
       "0  209.190476     train     IDC\n",
       "0  244.250000     train     ILC\n",
       "0  197.142857      tune     IDC\n",
       "0   74.000000      tune     ILC\n",
       "0  171.500000      test     IDC"
      ]
     },
     "execution_count": 27,
     "metadata": {},
     "output_type": "execute_result"
    }
   ],
   "source": [
    "nslide = {'train': defaultdict(list), 'tune': defaultdict(list), 'test': defaultdict(list)}\n",
    "dfs = []\n",
    "nfold = 10\n",
    "for i in range(nfold):\n",
    "    fold_dir = Path(f'data/{dataset_name}/splits/fold_{i}')\n",
    "    for partition in ['train', 'tune', 'test']:\n",
    "        df = pd.read_csv(Path(fold_dir, f'{partition}.csv'))\n",
    "        df['subtype'] = df['label'].apply(lambda x: 'IDC' if x == 0 else 'ILC')\n",
    "        for subtype, gdf in df.groupby('subtype'):\n",
    "            nslide[partition][subtype].append(len(gdf))\n",
    "            gdf = M_df.merge(gdf, how='inner', on='slide_id')\n",
    "            M = gdf.M.mean()\n",
    "            tmp = pd.DataFrame.from_dict({'avg_M': [M], 'partition': [partition], 'subtype': [subtype]})\n",
    "            dfs.append(tmp)\n",
    "        \n",
    "df = pd.concat(dfs)\n",
    "df.head()"
   ]
  },
  {
   "cell_type": "code",
   "execution_count": 28,
   "id": "fa2cdd60-b68c-4308-b102-cd15af331829",
   "metadata": {},
   "outputs": [
    {
     "data": {
      "text/plain": [
       "{'train': defaultdict(list,\n",
       "             {'IDC': [597, 587, 598, 588, 595, 595, 589, 595, 588, 589],\n",
       "              'ILC': [118, 124, 120, 120, 121, 121, 123, 120, 121, 120]}),\n",
       " 'tune': defaultdict(list,\n",
       "             {'IDC': [64, 71, 65, 67, 68, 65, 68, 61, 69, 66],\n",
       "              'ILC': [15, 13, 15, 14, 12, 12, 13, 14, 13, 14]}),\n",
       " 'test': defaultdict(list,\n",
       "             {'IDC': [65, 68, 63, 71, 63, 66, 69, 70, 69, 71],\n",
       "              'ILC': [16, 12, 14, 15, 16, 16, 13, 15, 15, 15]})}"
      ]
     },
     "execution_count": 28,
     "metadata": {},
     "output_type": "execute_result"
    }
   ],
   "source": [
    "nslide"
   ]
  },
  {
   "cell_type": "code",
   "execution_count": 29,
   "id": "c4804748-e792-45be-aae2-918548c2eba9",
   "metadata": {},
   "outputs": [
    {
     "data": {
      "text/plain": [
       "[592.1, 66.4, 67.5, 120.8, 13.5, 14.7]"
      ]
     },
     "execution_count": 29,
     "metadata": {},
     "output_type": "execute_result"
    }
   ],
   "source": [
    "avg_nslide = [np.mean(nslide[p][s]) for s in df.subtype.unique() for p in ['train', 'tune', 'test']]\n",
    "avg_nslide"
   ]
  },
  {
   "cell_type": "code",
   "execution_count": 32,
   "id": "35979e42-b1c5-431b-88a8-f150ed21fdd4",
   "metadata": {},
   "outputs": [
    {
     "data": {
      "image/png": "[encoded data removed]",
      "text/plain": [
       "<Figure size 600x400 with 1 Axes>"
      ]
     },
     "metadata": {
      "needs_background": "light"
     },
     "output_type": "display_data"
    }
   ],
   "source": [
    "pad = 10\n",
    "save = False\n",
    "\n",
    "plt.figure(dpi=100)\n",
    "ax = sns.barplot(data=df, y='avg_M', hue='subtype', x='partition', errorbar='sd')\n",
    "for i, p in enumerate(ax.patches):\n",
    "    errbar = ax.lines[i].get_data()[1]\n",
    "    std = errbar[1] - errbar[0]\n",
    "    \n",
    "    x, y = p.get_x(), p.get_y()\n",
    "    w, h = p.get_width(), p.get_height()\n",
    "    txt_x, txt_y = x+w/2, h+std/2+pad\n",
    "    \n",
    "    plt.text(txt_x, txt_y, f'{h:.1f}', horizontalalignment='center')\n",
    "    \n",
    "    n = avg_nslide[i]\n",
    "    plt.text(x+w/2, 0, f'~{n:.0f} slides', horizontalalignment='center', verticalalignment='bottom', fontsize='x-small', color='white')\n",
    "\n",
    "plt.xlabel('partition')\n",
    "plt.ylabel('average #region per slide')\n",
    "plt.ylim(0,499)\n",
    "plt.title(f'Average number of [4096,4096] region per slide', pad=10)\n",
    "plt.tight_layout()\n",
    "if save:\n",
    "    plt.savefig('average_sample_count.png', dpi=300)\n",
    "plt.show()"
   ]
  },
  {
   "cell_type": "code",
   "execution_count": null,
   "id": "271d312b-e9df-47d6-99a3-36456011ac79",
   "metadata": {},
   "outputs": [],
   "source": []
  }
 ],
 "metadata": {
  "kernelspec": {
   "display_name": "Python 3 (ipykernel)",
   "language": "python",
   "name": "python3"
  },
  "language_info": {
   "codemirror_mode": {
    "name": "ipython",
    "version": 3
   },
   "file_extension": ".py",
   "mimetype": "text/x-python",
   "name": "python",
   "nbconvert_exporter": "python",
   "pygments_lexer": "ipython3",
   "version": "3.9.10"
  }
 },
 "nbformat": 4,
 "nbformat_minor": 5
}
