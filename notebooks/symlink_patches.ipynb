{
 "cells": [
  {
   "cell_type": "markdown",
   "id": "c5f9d33a-c4e1-4984-8a01-8ebb4402c96a",
   "metadata": {},
   "source": [
    "# Symlink patches"
   ]
  },
  {
   "cell_type": "code",
   "execution_count": 2,
   "id": "63663596-c1f0-4854-8895-b98786469390",
   "metadata": {},
   "outputs": [],
   "source": [
    "import os\n",
    "import tqdm\n",
    "import shutil\n",
    "from pathlib import Path"
   ]
  },
  {
   "cell_type": "code",
   "execution_count": 3,
   "id": "1ded8049-264b-4ede-89d4-b733e280066d",
   "metadata": {},
   "outputs": [],
   "source": [
    "os.chdir('/data/pathology/projects/ais-cap/code/git/clemsgrs/hipt')"
   ]
  },
  {
   "cell_type": "code",
   "execution_count": 4,
   "id": "a0b243f4-bfb8-4b58-b5d5-6877dc702a0d",
   "metadata": {},
   "outputs": [],
   "source": [
    "root_dir = Path('/data/pathology/projects/ais-cap/code/git/clemsgrs/hs2p')"
   ]
  },
  {
   "cell_type": "code",
   "execution_count": 5,
   "id": "31524c55-adeb-4424-b0bc-dcf8c5919639",
   "metadata": {},
   "outputs": [],
   "source": [
    "dataset_name = 'tcga_brca'\n",
    "experiment_name = 'otsu'\n",
    "patch_dir = Path(root_dir, 'output', dataset_name, experiment_name, 'patches')"
   ]
  },
  {
   "cell_type": "code",
   "execution_count": 7,
   "id": "97b5ccd3-810e-4582-9725-262ea4436e10",
   "metadata": {},
   "outputs": [],
   "source": [
    "output_dir = Path('data', dataset_name, 'patches')\n",
    "try:\n",
    "    output_dir.mkdir(parents=True)\n",
    "except:\n",
    "    shutil.rmtree(output_dir)\n",
    "    output_dir.mkdir(parents=True)"
   ]
  },
  {
   "cell_type": "code",
   "execution_count": 8,
   "id": "8040b215-511d-40fc-bcc4-30056611a2ea",
   "metadata": {},
   "outputs": [],
   "source": [
    "patch_size = 4096\n",
    "fmt = 'jpg'"
   ]
  },
  {
   "cell_type": "code",
   "execution_count": 9,
   "id": "9c8ef3cf-abe7-40c2-9ca1-9e2c09426361",
   "metadata": {},
   "outputs": [
    {
     "name": "stderr",
     "output_type": "stream",
     "text": [
      "Generating Symlinks: 100%|████████████████████████████████████| 875/875 [01:28<00:00,  9.83 slide/s]\n"
     ]
    }
   ],
   "source": [
    "with open(Path(root_dir, f'data/{dataset_name}/slide_list.txt'), 'r') as f:\n",
    "    slide_ids = sorted([Path(s.strip()).stem for s in f.readlines()])\n",
    "    with tqdm.tqdm(\n",
    "        slide_ids,\n",
    "        desc=(f'Generating Symlinks'),\n",
    "        unit=' slide',\n",
    "        ncols=100,\n",
    "    ) as t:      \n",
    "        for s in t:\n",
    "            src_dir = Path(patch_dir, s, str(patch_size), fmt)\n",
    "            dst_dir = Path(output_dir, s, str(patch_size), fmt)\n",
    "            dst_dir.mkdir(exist_ok=True, parents=True)\n",
    "            patches = [p.name for p in src_dir.glob(f'*.{fmt}')]\n",
    "            for patch in patches:\n",
    "                src = Path(src_dir, patch)\n",
    "                dst = Path(dst_dir, patch)\n",
    "                dst.symlink_to(src)"
   ]
  },
  {
   "cell_type": "code",
   "execution_count": null,
   "id": "365b6ff5-9188-4070-869d-d24731f428a9",
   "metadata": {},
   "outputs": [],
   "source": []
  }
 ],
 "metadata": {
  "kernelspec": {
   "display_name": "Python 3 (ipykernel)",
   "language": "python",
   "name": "python3"
  },
  "language_info": {
   "codemirror_mode": {
    "name": "ipython",
    "version": 3
   },
   "file_extension": ".py",
   "mimetype": "text/x-python",
   "name": "python",
   "nbconvert_exporter": "python",
   "pygments_lexer": "ipython3",
   "version": "3.9.10"
  }
 },
 "nbformat": 4,
 "nbformat_minor": 5
}
