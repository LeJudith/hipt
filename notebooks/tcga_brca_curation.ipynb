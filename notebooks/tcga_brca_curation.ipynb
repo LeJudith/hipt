{
 "cells": [
  {
   "cell_type": "markdown",
   "id": "32fb2876-dc88-4d7c-9439-06a85dc84f1e",
   "metadata": {
    "tags": []
   },
   "source": [
    "# HIPT TCGA BRCA Dataset Curation"
   ]
  },
  {
   "cell_type": "code",
   "execution_count": null,
   "id": "4905f37b-9bc1-414c-8317-ab420197d55e",
   "metadata": {},
   "outputs": [],
   "source": [
    "import pandas as pd\n",
    "import seaborn as sns\n",
    "import matplotlib.pyplot as plt\n",
    "\n",
    "from pathlib import Path\n",
    "from IPython.display import Markdown as md\n",
    "\n",
    "pd.set_option('mode.chained_assignment', None)"
   ]
  },
  {
   "cell_type": "markdown",
   "id": "c93dbaaa-3d97-4152-a96f-419bd7985efd",
   "metadata": {},
   "source": [
    "### Load HIPT slides"
   ]
  },
  {
   "cell_type": "code",
   "execution_count": null,
   "id": "0b81f747-cff8-48e5-98ab-50915ead4398",
   "metadata": {},
   "outputs": [],
   "source": [
    "hipt_dir = Path('/data/pathology/projects/ais-cap/code/git/opensource/HIPT')"
   ]
  },
  {
   "cell_type": "code",
   "execution_count": null,
   "id": "290ae6e4-cbb7-44dd-81db-efb2dd1088cf",
   "metadata": {},
   "outputs": [],
   "source": [
    "fold_0_fp = Path(hipt_dir, '2-Weakly-Supervised-Subtyping/splits/10foldcv_subtype/tcga_brca/splits_0.csv')"
   ]
  },
  {
   "cell_type": "code",
   "execution_count": null,
   "id": "ce35b056-cc6d-4a11-b4cd-77926cf0556e",
   "metadata": {},
   "outputs": [],
   "source": [
    "df = pd.read_csv(fold_0_fp, index_col=0)\n",
    "df.head()"
   ]
  },
  {
   "cell_type": "code",
   "execution_count": null,
   "id": "3f758f4f-e6c0-47a8-b494-dff6aeaf629d",
   "metadata": {},
   "outputs": [],
   "source": [
    "hipt_train_brca = list(df['train'].dropna().unique())\n",
    "hipt_tune_brca = list(df['val'].dropna().unique())\n",
    "hipt_test_brca = list(df['test'].dropna().unique())\n",
    "\n",
    "len(hipt_train_brca), len(hipt_tune_brca), len(hipt_test_brca)"
   ]
  },
  {
   "cell_type": "code",
   "execution_count": null,
   "id": "7f54f754-cc2c-4eee-a18a-180324e74656",
   "metadata": {},
   "outputs": [],
   "source": [
    "hipt_train_brca = set(hipt_train_brca)\n",
    "hipt_tune_brca = set(hipt_tune_brca)\n",
    "hipt_test_brca = set(hipt_test_brca)"
   ]
  },
  {
   "cell_type": "code",
   "execution_count": null,
   "id": "42b34070-1c49-402a-b809-da4072008d39",
   "metadata": {},
   "outputs": [],
   "source": [
    "intersection_train_tune = hipt_train_brca.intersection(hipt_tune_brca)\n",
    "intersection_train_test = hipt_train_brca.intersection(hipt_test_brca)\n",
    "intersection_tune_test = hipt_tune_brca.intersection(hipt_test_brca)\n",
    "\n",
    "len(intersection_train_tune), len(intersection_train_test), len(intersection_tune_test)"
   ]
  },
  {
   "cell_type": "code",
   "execution_count": null,
   "id": "ac815e7a-5daa-4aaf-b4be-e8819c8c7280",
   "metadata": {},
   "outputs": [],
   "source": [
    "hipt_brca = hipt_train_brca | hipt_tune_brca | hipt_test_brca\n",
    "len(hipt_brca)"
   ]
  },
  {
   "cell_type": "code",
   "execution_count": null,
   "id": "6657b787-bc70-433d-8257-83f912e648f5",
   "metadata": {},
   "outputs": [],
   "source": [
    "list(hipt_brca)[0]"
   ]
  },
  {
   "cell_type": "markdown",
   "id": "496bdcc6-3e61-4e9e-ae65-73f57262a980",
   "metadata": {},
   "source": [
    "### Load Blissey slides"
   ]
  },
  {
   "cell_type": "code",
   "execution_count": null,
   "id": "495368cd-85d9-4080-aeae-786131fba53f",
   "metadata": {},
   "outputs": [],
   "source": [
    "data_dir = Path('/data/pathology/archives/breast/TCGA_diagnostics/')"
   ]
  },
  {
   "cell_type": "code",
   "execution_count": null,
   "id": "769d4498-7ce7-44ac-944c-9017e1ab57c3",
   "metadata": {},
   "outputs": [],
   "source": [
    "blissey_brca = list(Path(data_dir, 'images').glob('*.tif')) + list(Path(data_dir, 'clement_slides/tif').glob('*.tif'))\n",
    "blissey_brca = [s.stem for s in blissey_brca]\n",
    "blissey_brca[0]"
   ]
  },
  {
   "cell_type": "code",
   "execution_count": null,
   "id": "48c2b4a8-a72b-4891-a05b-8a589fe818b4",
   "metadata": {},
   "outputs": [],
   "source": [
    "len(blissey_brca)"
   ]
  },
  {
   "cell_type": "code",
   "execution_count": null,
   "id": "9ca7e125-460c-4ed7-955d-d601b8cb0eb2",
   "metadata": {},
   "outputs": [],
   "source": [
    "blissey_brca = set(blissey_brca)\n",
    "len(blissey_brca)"
   ]
  },
  {
   "cell_type": "markdown",
   "id": "38d84e52-eb21-4b32-b32c-19aff0dd6412",
   "metadata": {},
   "source": [
    "### Compare HIPT & Blissey slides"
   ]
  },
  {
   "cell_type": "code",
   "execution_count": null,
   "id": "dae07096-c6e9-4805-84b5-83628c563a3b",
   "metadata": {},
   "outputs": [],
   "source": [
    "intersection_hipt_blissey = hipt_brca.intersection(blissey_brca)\n",
    "print(f'{len(intersection_hipt_blissey)}/{len(hipt_brca)}') "
   ]
  },
  {
   "cell_type": "code",
   "execution_count": null,
   "id": "8fad6628-a6c8-43a0-895c-84bb83fb2e06",
   "metadata": {},
   "outputs": [],
   "source": [
    "difference_hipt_blissey = hipt_brca.difference(blissey_brca)\n",
    "md(f'there are **{len(difference_hipt_blissey)}** slides from HIPT dataset that are not on Blissey')"
   ]
  },
  {
   "cell_type": "markdown",
   "id": "cd7598af-6fd4-4a31-8762-9350532e3ea6",
   "metadata": {},
   "source": [
    "### Load HIPT labels"
   ]
  },
  {
   "cell_type": "code",
   "execution_count": null,
   "id": "c94f8d23-8fb4-432d-bdcf-4b1bbb5c21d7",
   "metadata": {},
   "outputs": [],
   "source": [
    "hipt_labels_csv_path = Path(hipt_dir, '2-Weakly-Supervised-Subtyping/dataset_csv/tcga_brca_subset.csv.zip')\n",
    "hipt_labels_df = pd.read_csv(hipt_labels_csv_path, index_col=0)\n",
    "hipt_labels_df.head()"
   ]
  },
  {
   "cell_type": "code",
   "execution_count": null,
   "id": "6366f8d2-b050-4865-994a-a8bfc12d1b90",
   "metadata": {},
   "outputs": [],
   "source": [
    "len(hipt_labels_df)"
   ]
  },
  {
   "cell_type": "code",
   "execution_count": null,
   "id": "8cc3c034-72cc-4384-933b-b4fa964f46aa",
   "metadata": {},
   "outputs": [],
   "source": [
    "hipt_labels_df['slide_id'].dropna().nunique()"
   ]
  },
  {
   "cell_type": "markdown",
   "id": "f12782b0-6259-44f6-acd0-44966e711106",
   "metadata": {},
   "source": [
    "why do we only have labels for **937** slides?"
   ]
  },
  {
   "cell_type": "code",
   "execution_count": null,
   "id": "46e552b2-04d4-4b2a-a226-2288460b7d46",
   "metadata": {},
   "outputs": [],
   "source": [
    "# drop .tif from slide ids\n",
    "hipt_labels_df['slide_id'] = hipt_labels_df['slide_id'].apply(lambda x: Path(x).stem)"
   ]
  },
  {
   "cell_type": "code",
   "execution_count": null,
   "id": "b3e121f2-852a-48ab-bfff-fdebb7f10792",
   "metadata": {},
   "outputs": [],
   "source": [
    "hipt_labels_df.oncotree_code.value_counts(dropna=False)"
   ]
  },
  {
   "cell_type": "code",
   "execution_count": null,
   "id": "7ad00a41-312b-4a6d-b51b-c5404f05d7f2",
   "metadata": {},
   "outputs": [],
   "source": [
    "hipt_fold_labels_df = hipt_labels_df[hipt_labels_df['slide_id'].isin(hipt_brca)]\n",
    "hipt_fold_labels_df.slide_id.dropna().nunique()"
   ]
  },
  {
   "cell_type": "markdown",
   "id": "46721596-a7d4-403b-9280-a1216428aa2c",
   "metadata": {},
   "source": [
    "among the 937 slides for which we have labels, only **875** are used for training/tuning/testing<br>\n",
    "this is because we drop all labels that are not IDC or ILC"
   ]
  },
  {
   "cell_type": "code",
   "execution_count": null,
   "id": "1f802d70-19be-4c2d-86e1-054654fdce27",
   "metadata": {},
   "outputs": [],
   "source": [
    "hipt_fold_labels_df.oncotree_code.value_counts(dropna=False)"
   ]
  },
  {
   "cell_type": "code",
   "execution_count": null,
   "id": "730d153a-3f19-487e-a982-c6b46c010afe",
   "metadata": {},
   "outputs": [],
   "source": [
    "def map_otc_to_int(otc: str, missing_label: int = -1):\n",
    "    if otc == 'IDC':\n",
    "        return 0\n",
    "    elif otc == 'ILC':\n",
    "        return 1\n",
    "    else:\n",
    "        return missing_label"
   ]
  },
  {
   "cell_type": "code",
   "execution_count": null,
   "id": "1e367187-1724-4148-bf05-e47e9f1c0eec",
   "metadata": {},
   "outputs": [],
   "source": [
    "hipt_fold_labels_df['label'] = hipt_fold_labels_df['oncotree_code'].apply(map_otc_to_int)"
   ]
  },
  {
   "cell_type": "markdown",
   "id": "8d25bfc9-8e1d-4084-aade-b229d116ec2a",
   "metadata": {},
   "source": [
    "### Get HIPT slide count per case_id"
   ]
  },
  {
   "cell_type": "code",
   "execution_count": null,
   "id": "6f9d2108-8e1a-4945-a0bd-921624369a48",
   "metadata": {},
   "outputs": [],
   "source": [
    "list(hipt_brca)[0]"
   ]
  },
  {
   "cell_type": "code",
   "execution_count": null,
   "id": "6c607c80-ed08-48c6-829b-7235579d12f1",
   "metadata": {},
   "outputs": [],
   "source": [
    "def extract_case_id_from_slide_id(slide_id):\n",
    "    return '-'.join(slide_id.split('-')[:3])\n",
    "\n",
    "extract_case_id_from_slide_id(list(hipt_brca)[0])"
   ]
  },
  {
   "cell_type": "code",
   "execution_count": null,
   "id": "e63b0f76-6be3-4017-ad18-185ca8a52185",
   "metadata": {},
   "outputs": [],
   "source": [
    "hipt_brca_case_ids = [extract_case_id_from_slide_id(s) for s in hipt_brca]\n",
    "len(hipt_brca_case_ids), len(set(hipt_brca_case_ids))"
   ]
  },
  {
   "cell_type": "markdown",
   "id": "2272856a-2009-4af6-bbbd-c4111843a3aa",
   "metadata": {},
   "source": [
    "Hence, we have some slides mapped to the same case ids"
   ]
  },
  {
   "cell_type": "code",
   "execution_count": null,
   "id": "4311cdd7-7134-413a-a291-215817944a9a",
   "metadata": {},
   "outputs": [],
   "source": [
    "duplicated_hipt_brca_case_ids = set([c for c in hipt_brca_case_ids if hipt_brca_case_ids.count(c) > 1])\n",
    "md(f'there are **{len(duplicated_hipt_brca_case_ids)}** case ids mapped to 2+ slides')"
   ]
  },
  {
   "cell_type": "code",
   "execution_count": null,
   "id": "08b8936a-c942-4ba2-8bb1-5c3b6aaf1188",
   "metadata": {},
   "outputs": [],
   "source": [
    "d = {'case_id': [], 'nslide': []}\n",
    "for case_id in set(hipt_brca_case_ids):\n",
    "    d['case_id'].append(case_id)\n",
    "    d['nslide'].append(hipt_brca_case_ids.count(case_id))\n",
    "tmp = pd.DataFrame.from_dict(d)\n",
    "tmp.head()"
   ]
  },
  {
   "cell_type": "code",
   "execution_count": null,
   "id": "df75b722-6c66-406f-8b9e-76ec2dc71161",
   "metadata": {},
   "outputs": [],
   "source": [
    "tmp.nslide.sum()"
   ]
  },
  {
   "cell_type": "code",
   "execution_count": null,
   "id": "1714dc85-44d5-4886-9a3d-fce5aad07ee7",
   "metadata": {},
   "outputs": [],
   "source": [
    "ax = sns.countplot(data=tmp, x='nslide')\n",
    "ax.bar_label(ax.containers[0], padding=5)\n",
    "plt.xlabel('# slide')\n",
    "plt.ylabel('# case')\n",
    "plt.ylim(0,1000)\n",
    "plt.show()"
   ]
  },
  {
   "cell_type": "markdown",
   "id": "4e9734ff-f73c-437b-b852-87c6c293f386",
   "metadata": {},
   "source": [
    "Investigate labels when multiple slides available"
   ]
  },
  {
   "cell_type": "code",
   "execution_count": null,
   "id": "af847b83-eb1a-42a8-a533-5a7dd4ad3425",
   "metadata": {},
   "outputs": [],
   "source": [
    "tmp = hipt_fold_labels_df[hipt_fold_labels_df['case_id'].isin(duplicated_hipt_brca_case_ids)]\n",
    "tmp.oncotree_code.value_counts(dropna=False)"
   ]
  },
  {
   "cell_type": "markdown",
   "id": "a3bae5a9-4c83-4c22-be48-4464f4b5a40e",
   "metadata": {},
   "source": [
    "question: is there a case_id whith 2+ slides whose labels are different?"
   ]
  },
  {
   "cell_type": "code",
   "execution_count": null,
   "id": "e45797e8-ee04-4081-b8de-363d1fa5d45a",
   "metadata": {},
   "outputs": [],
   "source": [
    "tmp_df = (tmp.groupby('case_id')['oncotree_code'].nunique() > 1).reset_index()\n",
    "tmp_df = tmp_df.rename(columns={'oncotree_code': 'multiple_labels'})\n",
    "tmp_df.head()"
   ]
  },
  {
   "cell_type": "code",
   "execution_count": null,
   "id": "b543ed34-0e3f-4dcd-89da-37487a94f8b7",
   "metadata": {},
   "outputs": [],
   "source": [
    "tmp = tmp_df[tmp_df['multiple_labels'] == True]\n",
    "len(set(tmp.case_id))"
   ]
  },
  {
   "cell_type": "markdown",
   "id": "d4cd2903-ae5e-4df0-9535-c03c5fe0c9a3",
   "metadata": {},
   "source": [
    "answer is **no**<br>\n",
    "to extract some information from this, we'd need to know how these labels were actually curated<br>\n",
    "e.g. whether patient/case level label was replicated for each slide (when 2+ slides available)"
   ]
  },
  {
   "cell_type": "markdown",
   "id": "7a9eb63a-5e97-4793-aea1-2f3c03cfa11f",
   "metadata": {},
   "source": [
    "### Wrapping up"
   ]
  },
  {
   "cell_type": "code",
   "execution_count": null,
   "id": "39e6107c-fb23-4042-a260-70efeba17f4b",
   "metadata": {},
   "outputs": [],
   "source": [
    "hipt_fold_labels_df.case_id.dropna().nunique(), hipt_fold_labels_df.slide_id.dropna().nunique()"
   ]
  },
  {
   "cell_type": "markdown",
   "id": "432e80a6-6e72-4607-82f4-b9a9c830a508",
   "metadata": {},
   "source": [
    "if one sticks to their _labeled_ dataset: **837** patients mapped to **875** slides"
   ]
  },
  {
   "cell_type": "code",
   "execution_count": null,
   "id": "14d38f3e-b1b0-4041-9337-207ac286e022",
   "metadata": {},
   "outputs": [],
   "source": [
    "# how many of these 875 slides are missing on the cluster?\n",
    "\n",
    "hipt_brca_labeled = set(hipt_fold_labels_df.slide_id.dropna().tolist())\n",
    "len(hipt_brca_labeled)"
   ]
  },
  {
   "cell_type": "code",
   "execution_count": null,
   "id": "87121dd8-1024-4f43-812c-8f4b2a4739a2",
   "metadata": {},
   "outputs": [],
   "source": [
    "intersection_hipt_labeled_blissey = hipt_brca_labeled.intersection(blissey_brca)\n",
    "print(f'{len(intersection_hipt_labeled_blissey)}/{len(hipt_brca_labeled)}')"
   ]
  },
  {
   "cell_type": "markdown",
   "id": "b098f194-031d-49c4-b675-177b9cefb159",
   "metadata": {},
   "source": [
    "From HIPT github repo ([see here](https://github.com/mahmoodlab/HIPT/issues/6#issuecomment-1175792504)):\n",
    "\n",
    "> Files under `HIPT/2-Weakly-Supervised-Subtyping/dataset_csv/` contain the total list of WSIs evaluated. Though there are more patients included in the `10foldcv_subtype/tcga_brca/split_{i}.csv` split, patients with insufficient tissue content for patching at the 4K-level and are thus missing in the pt_files-type folder, get excluded / masked out when slicing the dataframe. I should update the split csv files to clarify this confusion."
   ]
  },
  {
   "cell_type": "markdown",
   "id": "8ae1917a-79ec-4227-bd85-d082101937a8",
   "metadata": {},
   "source": [
    "Issues Watchlist:\n",
    "\n",
    "- https://github.com/mahmoodlab/HIPT/issues/11 has GDC manifest text files\n",
    "- https://github.com/mahmoodlab/HIPT/issues/16 question regarding BRCA subtyping labels"
   ]
  },
  {
   "cell_type": "markdown",
   "id": "1eb5ffae-4a80-486c-be07-4b90cf5118dd",
   "metadata": {},
   "source": [
    "Dump slide filenames in .txt file"
   ]
  },
  {
   "cell_type": "code",
   "execution_count": null,
   "id": "a061071b-c3e4-45cc-a8be-227072ca96a0",
   "metadata": {},
   "outputs": [],
   "source": [
    "list(hipt_brca_labeled)[0]"
   ]
  },
  {
   "cell_type": "code",
   "execution_count": null,
   "id": "6d60e187-7e7e-4663-994a-5b8898ca5ae9",
   "metadata": {},
   "outputs": [],
   "source": [
    "with open(f'../tcga_brca.txt', 'w') as f:\n",
    "    for slide in hipt_brca_labeled:\n",
    "        f.write(f'{slide}.tif\\n')"
   ]
  },
  {
   "cell_type": "code",
   "execution_count": null,
   "id": "bf13ab50-2699-42fe-b763-f57b3b1fdab6",
   "metadata": {},
   "outputs": [],
   "source": []
  }
 ],
 "metadata": {
  "kernelspec": {
   "display_name": "Python 3 (ipykernel)",
   "language": "python",
   "name": "python3"
  },
  "language_info": {
   "codemirror_mode": {
    "name": "ipython",
    "version": 3
   },
   "file_extension": ".py",
   "mimetype": "text/x-python",
   "name": "python",
   "nbconvert_exporter": "python",
   "pygments_lexer": "ipython3",
   "version": "3.9.10"
  }
 },
 "nbformat": 4,
 "nbformat_minor": 5
}
