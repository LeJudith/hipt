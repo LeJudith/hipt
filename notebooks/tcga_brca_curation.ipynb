{
 "cells": [
  {
   "cell_type": "markdown",
   "id": "32fb2876-dc88-4d7c-9439-06a85dc84f1e",
   "metadata": {
    "tags": []
   },
   "source": [
    "# HIPT TCGA BRCA Dataset Curation"
   ]
  },
  {
   "cell_type": "code",
   "execution_count": 1,
   "id": "4905f37b-9bc1-414c-8317-ab420197d55e",
   "metadata": {},
   "outputs": [],
   "source": [
    "import pandas as pd\n",
    "import seaborn as sns\n",
    "import matplotlib.pyplot as plt\n",
    "\n",
    "from pathlib import Path\n",
    "from IPython.display import Markdown as md\n",
    "\n",
    "pd.set_option('mode.chained_assignment', None)"
   ]
  },
  {
   "cell_type": "markdown",
   "id": "c93dbaaa-3d97-4152-a96f-419bd7985efd",
   "metadata": {},
   "source": [
    "### Load HIPT slides"
   ]
  },
  {
   "cell_type": "code",
   "execution_count": 2,
   "id": "0b81f747-cff8-48e5-98ab-50915ead4398",
   "metadata": {},
   "outputs": [],
   "source": [
    "hipt_dir = Path('/data/pathology/projects/ais-cap/code/git/opensource/HIPT')"
   ]
  },
  {
   "cell_type": "code",
   "execution_count": 3,
   "id": "290ae6e4-cbb7-44dd-81db-efb2dd1088cf",
   "metadata": {},
   "outputs": [],
   "source": [
    "fold_0_fp = Path(hipt_dir, '2-Weakly-Supervised-Subtyping/splits/10foldcv_subtype/tcga_brca/splits_0.csv')"
   ]
  },
  {
   "cell_type": "code",
   "execution_count": 4,
   "id": "ce35b056-cc6d-4a11-b4cd-77926cf0556e",
   "metadata": {},
   "outputs": [
    {
     "data": {
      "text/html": [
       "<div>\n",
       "<style scoped>\n",
       "    .dataframe tbody tr th:only-of-type {\n",
       "        vertical-align: middle;\n",
       "    }\n",
       "\n",
       "    .dataframe tbody tr th {\n",
       "        vertical-align: top;\n",
       "    }\n",
       "\n",
       "    .dataframe thead th {\n",
       "        text-align: right;\n",
       "    }\n",
       "</style>\n",
       "<table border=\"1\" class=\"dataframe\">\n",
       "  <thead>\n",
       "    <tr style=\"text-align: right;\">\n",
       "      <th></th>\n",
       "      <th>train</th>\n",
       "      <th>val</th>\n",
       "      <th>test</th>\n",
       "    </tr>\n",
       "  </thead>\n",
       "  <tbody>\n",
       "    <tr>\n",
       "      <th>0</th>\n",
       "      <td>TCGA-A7-A6VV-01Z-00-DX1.07AE0E16-A883-4C86-BC7...</td>\n",
       "      <td>TCGA-A2-A0YH-01Z-00-DX1.FBA5E711-8275-45B3-BC2...</td>\n",
       "      <td>TCGA-BH-A202-01Z-00-DX1.8CECDB74-5E6F-4CE8-B52...</td>\n",
       "    </tr>\n",
       "    <tr>\n",
       "      <th>1</th>\n",
       "      <td>TCGA-A2-A0T1-01Z-00-DX1.CD1E9C46-18A3-466B-AA0...</td>\n",
       "      <td>TCGA-BH-A0E1-01Z-00-DX1.257EB36A-1008-4890-927...</td>\n",
       "      <td>TCGA-D8-A1JB-01Z-00-DX1.6CF48257-066C-4B8C-91A...</td>\n",
       "    </tr>\n",
       "    <tr>\n",
       "      <th>2</th>\n",
       "      <td>TCGA-BH-A0B9-01Z-00-DX1.C23ADB4C-52D4-4DFD-B8E...</td>\n",
       "      <td>TCGA-BH-A0W5-01Z-00-DX1.84EA3913-667B-4694-A0F...</td>\n",
       "      <td>TCGA-OL-A5RX-01Z-00-DX1.15A0D4F4-2744-4D44-888...</td>\n",
       "    </tr>\n",
       "    <tr>\n",
       "      <th>3</th>\n",
       "      <td>TCGA-A2-A0ET-01Z-00-DX1.41E86BB9-EA52-4615-94E...</td>\n",
       "      <td>TCGA-AQ-A0Y5-01Z-00-DX1.f68f5b49-30fa-4fb6-bec...</td>\n",
       "      <td>TCGA-BH-A0EE-01Z-00-DX1.872EA586-25C8-4835-A13...</td>\n",
       "    </tr>\n",
       "    <tr>\n",
       "      <th>4</th>\n",
       "      <td>TCGA-C8-A26Z-01Z-00-DX1.1A15D951-F3BD-4024-91D...</td>\n",
       "      <td>TCGA-A8-A08C-01Z-00-DX1.0602211C-1098-4711-AA4...</td>\n",
       "      <td>TCGA-EW-A2FW-01Z-00-DX1.4F948681-81F3-46C5-A4E...</td>\n",
       "    </tr>\n",
       "  </tbody>\n",
       "</table>\n",
       "</div>"
      ],
      "text/plain": [
       "                                               train  \\\n",
       "0  TCGA-A7-A6VV-01Z-00-DX1.07AE0E16-A883-4C86-BC7...   \n",
       "1  TCGA-A2-A0T1-01Z-00-DX1.CD1E9C46-18A3-466B-AA0...   \n",
       "2  TCGA-BH-A0B9-01Z-00-DX1.C23ADB4C-52D4-4DFD-B8E...   \n",
       "3  TCGA-A2-A0ET-01Z-00-DX1.41E86BB9-EA52-4615-94E...   \n",
       "4  TCGA-C8-A26Z-01Z-00-DX1.1A15D951-F3BD-4024-91D...   \n",
       "\n",
       "                                                 val  \\\n",
       "0  TCGA-A2-A0YH-01Z-00-DX1.FBA5E711-8275-45B3-BC2...   \n",
       "1  TCGA-BH-A0E1-01Z-00-DX1.257EB36A-1008-4890-927...   \n",
       "2  TCGA-BH-A0W5-01Z-00-DX1.84EA3913-667B-4694-A0F...   \n",
       "3  TCGA-AQ-A0Y5-01Z-00-DX1.f68f5b49-30fa-4fb6-bec...   \n",
       "4  TCGA-A8-A08C-01Z-00-DX1.0602211C-1098-4711-AA4...   \n",
       "\n",
       "                                                test  \n",
       "0  TCGA-BH-A202-01Z-00-DX1.8CECDB74-5E6F-4CE8-B52...  \n",
       "1  TCGA-D8-A1JB-01Z-00-DX1.6CF48257-066C-4B8C-91A...  \n",
       "2  TCGA-OL-A5RX-01Z-00-DX1.15A0D4F4-2744-4D44-888...  \n",
       "3  TCGA-BH-A0EE-01Z-00-DX1.872EA586-25C8-4835-A13...  \n",
       "4  TCGA-EW-A2FW-01Z-00-DX1.4F948681-81F3-46C5-A4E...  "
      ]
     },
     "execution_count": 4,
     "metadata": {},
     "output_type": "execute_result"
    }
   ],
   "source": [
    "df = pd.read_csv(fold_0_fp, index_col=0)\n",
    "df.head()"
   ]
  },
  {
   "cell_type": "code",
   "execution_count": 5,
   "id": "3f758f4f-e6c0-47a8-b494-dff6aeaf629d",
   "metadata": {},
   "outputs": [
    {
     "data": {
      "text/plain": [
       "(845, 98, 98)"
      ]
     },
     "execution_count": 5,
     "metadata": {},
     "output_type": "execute_result"
    }
   ],
   "source": [
    "hipt_train_brca = list(df['train'].dropna().unique())\n",
    "hipt_tune_brca = list(df['val'].dropna().unique())\n",
    "hipt_test_brca = list(df['test'].dropna().unique())\n",
    "\n",
    "len(hipt_train_brca), len(hipt_tune_brca), len(hipt_test_brca)"
   ]
  },
  {
   "cell_type": "code",
   "execution_count": 6,
   "id": "7f54f754-cc2c-4eee-a18a-180324e74656",
   "metadata": {},
   "outputs": [],
   "source": [
    "hipt_train_brca = set(hipt_train_brca)\n",
    "hipt_tune_brca = set(hipt_tune_brca)\n",
    "hipt_test_brca = set(hipt_test_brca)"
   ]
  },
  {
   "cell_type": "code",
   "execution_count": 7,
   "id": "42b34070-1c49-402a-b809-da4072008d39",
   "metadata": {},
   "outputs": [
    {
     "data": {
      "text/plain": [
       "(0, 0, 0)"
      ]
     },
     "execution_count": 7,
     "metadata": {},
     "output_type": "execute_result"
    }
   ],
   "source": [
    "intersection_train_tune = hipt_train_brca.intersection(hipt_tune_brca)\n",
    "intersection_train_test = hipt_train_brca.intersection(hipt_test_brca)\n",
    "intersection_tune_test = hipt_tune_brca.intersection(hipt_test_brca)\n",
    "\n",
    "len(intersection_train_tune), len(intersection_train_test), len(intersection_tune_test)"
   ]
  },
  {
   "cell_type": "code",
   "execution_count": 8,
   "id": "ac815e7a-5daa-4aaf-b4be-e8819c8c7280",
   "metadata": {},
   "outputs": [
    {
     "data": {
      "text/plain": [
       "1041"
      ]
     },
     "execution_count": 8,
     "metadata": {},
     "output_type": "execute_result"
    }
   ],
   "source": [
    "hipt_brca = hipt_train_brca | hipt_tune_brca | hipt_test_brca\n",
    "len(hipt_brca)"
   ]
  },
  {
   "cell_type": "code",
   "execution_count": 9,
   "id": "6657b787-bc70-433d-8257-83f912e648f5",
   "metadata": {},
   "outputs": [
    {
     "data": {
      "text/plain": [
       "'TCGA-A7-A26H-01Z-00-DX1.3344CFD3-5A19-4B01-BEB2-AB89F83FD53A'"
      ]
     },
     "execution_count": 9,
     "metadata": {},
     "output_type": "execute_result"
    }
   ],
   "source": [
    "list(hipt_brca)[0]"
   ]
  },
  {
   "cell_type": "markdown",
   "id": "496bdcc6-3e61-4e9e-ae65-73f57262a980",
   "metadata": {},
   "source": [
    "### Load Blissey slides"
   ]
  },
  {
   "cell_type": "code",
   "execution_count": 10,
   "id": "495368cd-85d9-4080-aeae-786131fba53f",
   "metadata": {},
   "outputs": [],
   "source": [
    "data_dir = Path('/data/pathology/archives/breast/TCGA_diagnostics/')"
   ]
  },
  {
   "cell_type": "code",
   "execution_count": 11,
   "id": "769d4498-7ce7-44ac-944c-9017e1ab57c3",
   "metadata": {},
   "outputs": [
    {
     "data": {
      "text/plain": [
       "'TCGA-GM-A2D9-01Z-00-DX1.AF4BF2DD-05FB-400B-A1BC-6E7C9B9DDF05'"
      ]
     },
     "execution_count": 11,
     "metadata": {},
     "output_type": "execute_result"
    }
   ],
   "source": [
    "blissey_brca = list(Path(data_dir, 'images').glob('*.tif')) + list(Path(data_dir, 'clement_slides/tif').glob('*.tif'))\n",
    "blissey_brca = [s.stem for s in blissey_brca]\n",
    "blissey_brca[0]"
   ]
  },
  {
   "cell_type": "code",
   "execution_count": 12,
   "id": "48c2b4a8-a72b-4891-a05b-8a589fe818b4",
   "metadata": {},
   "outputs": [
    {
     "data": {
      "text/plain": [
       "1126"
      ]
     },
     "execution_count": 12,
     "metadata": {},
     "output_type": "execute_result"
    }
   ],
   "source": [
    "len(blissey_brca)"
   ]
  },
  {
   "cell_type": "code",
   "execution_count": 13,
   "id": "9ca7e125-460c-4ed7-955d-d601b8cb0eb2",
   "metadata": {},
   "outputs": [
    {
     "data": {
      "text/plain": [
       "1126"
      ]
     },
     "execution_count": 13,
     "metadata": {},
     "output_type": "execute_result"
    }
   ],
   "source": [
    "blissey_brca = set(blissey_brca)\n",
    "len(blissey_brca)"
   ]
  },
  {
   "cell_type": "markdown",
   "id": "38d84e52-eb21-4b32-b32c-19aff0dd6412",
   "metadata": {},
   "source": [
    "### Compare HIPT & Blissey slides"
   ]
  },
  {
   "cell_type": "code",
   "execution_count": 14,
   "id": "dae07096-c6e9-4805-84b5-83628c563a3b",
   "metadata": {},
   "outputs": [
    {
     "name": "stdout",
     "output_type": "stream",
     "text": [
      "1034/1041\n"
     ]
    }
   ],
   "source": [
    "intersection_hipt_blissey = hipt_brca.intersection(blissey_brca)\n",
    "print(f'{len(intersection_hipt_blissey)}/{len(hipt_brca)}') "
   ]
  },
  {
   "cell_type": "code",
   "execution_count": 15,
   "id": "8fad6628-a6c8-43a0-895c-84bb83fb2e06",
   "metadata": {},
   "outputs": [
    {
     "data": {
      "text/markdown": [
       "there are **7** slides from HIPT dataset that are not on Blissey"
      ],
      "text/plain": [
       "<IPython.core.display.Markdown object>"
      ]
     },
     "execution_count": 15,
     "metadata": {},
     "output_type": "execute_result"
    }
   ],
   "source": [
    "difference_hipt_blissey = hipt_brca.difference(blissey_brca)\n",
    "md(f'there are **{len(difference_hipt_blissey)}** slides from HIPT dataset that are not on Blissey')"
   ]
  },
  {
   "cell_type": "markdown",
   "id": "cd7598af-6fd4-4a31-8762-9350532e3ea6",
   "metadata": {},
   "source": [
    "### Load HIPT labels"
   ]
  },
  {
   "cell_type": "code",
   "execution_count": 16,
   "id": "c94f8d23-8fb4-432d-bdcf-4b1bbb5c21d7",
   "metadata": {},
   "outputs": [
    {
     "data": {
      "text/html": [
       "<div>\n",
       "<style scoped>\n",
       "    .dataframe tbody tr th:only-of-type {\n",
       "        vertical-align: middle;\n",
       "    }\n",
       "\n",
       "    .dataframe tbody tr th {\n",
       "        vertical-align: top;\n",
       "    }\n",
       "\n",
       "    .dataframe thead th {\n",
       "        text-align: right;\n",
       "    }\n",
       "</style>\n",
       "<table border=\"1\" class=\"dataframe\">\n",
       "  <thead>\n",
       "    <tr style=\"text-align: right;\">\n",
       "      <th></th>\n",
       "      <th>case_id</th>\n",
       "      <th>slide_id</th>\n",
       "      <th>age</th>\n",
       "      <th>site</th>\n",
       "      <th>survival_months</th>\n",
       "      <th>censorship</th>\n",
       "      <th>is_female</th>\n",
       "      <th>oncotree_code</th>\n",
       "      <th>train</th>\n",
       "      <th>CDH1_mut</th>\n",
       "      <th>...</th>\n",
       "      <th>PIK3CA_mut</th>\n",
       "      <th>PTEN_mut</th>\n",
       "      <th>RYR2_mut</th>\n",
       "      <th>SPTA1_mut</th>\n",
       "      <th>SYNE1_mut</th>\n",
       "      <th>TP53_mut</th>\n",
       "      <th>TTN_mut</th>\n",
       "      <th>USH2A_mut</th>\n",
       "      <th>ZFHX4_mut</th>\n",
       "      <th>RAS_mut</th>\n",
       "    </tr>\n",
       "  </thead>\n",
       "  <tbody>\n",
       "    <tr>\n",
       "      <th>0</th>\n",
       "      <td>TCGA-3C-AALI</td>\n",
       "      <td>TCGA-3C-AALI-01Z-00-DX1.F6E9A5DF-D8FB-45CF-B4B...</td>\n",
       "      <td>50.0</td>\n",
       "      <td>3C</td>\n",
       "      <td>131.57</td>\n",
       "      <td>1.0</td>\n",
       "      <td>1.0</td>\n",
       "      <td>IDC</td>\n",
       "      <td>1.0</td>\n",
       "      <td>0</td>\n",
       "      <td>...</td>\n",
       "      <td>0</td>\n",
       "      <td>0</td>\n",
       "      <td>1</td>\n",
       "      <td>1</td>\n",
       "      <td>0</td>\n",
       "      <td>1</td>\n",
       "      <td>1</td>\n",
       "      <td>0</td>\n",
       "      <td>1</td>\n",
       "      <td>0</td>\n",
       "    </tr>\n",
       "    <tr>\n",
       "      <th>1</th>\n",
       "      <td>TCGA-3C-AALI</td>\n",
       "      <td>TCGA-3C-AALI-01Z-00-DX2.CF4496E0-AB52-4F3E-BDF...</td>\n",
       "      <td>50.0</td>\n",
       "      <td>3C</td>\n",
       "      <td>131.57</td>\n",
       "      <td>1.0</td>\n",
       "      <td>1.0</td>\n",
       "      <td>IDC</td>\n",
       "      <td>1.0</td>\n",
       "      <td>0</td>\n",
       "      <td>...</td>\n",
       "      <td>0</td>\n",
       "      <td>0</td>\n",
       "      <td>1</td>\n",
       "      <td>1</td>\n",
       "      <td>0</td>\n",
       "      <td>1</td>\n",
       "      <td>1</td>\n",
       "      <td>0</td>\n",
       "      <td>1</td>\n",
       "      <td>0</td>\n",
       "    </tr>\n",
       "    <tr>\n",
       "      <th>2</th>\n",
       "      <td>TCGA-3C-AALJ</td>\n",
       "      <td>TCGA-3C-AALJ-01Z-00-DX1.777C0957-255A-42F0-9EE...</td>\n",
       "      <td>62.0</td>\n",
       "      <td>3C</td>\n",
       "      <td>48.42</td>\n",
       "      <td>1.0</td>\n",
       "      <td>1.0</td>\n",
       "      <td>IDC</td>\n",
       "      <td>1.0</td>\n",
       "      <td>0</td>\n",
       "      <td>...</td>\n",
       "      <td>0</td>\n",
       "      <td>0</td>\n",
       "      <td>0</td>\n",
       "      <td>0</td>\n",
       "      <td>0</td>\n",
       "      <td>0</td>\n",
       "      <td>1</td>\n",
       "      <td>0</td>\n",
       "      <td>1</td>\n",
       "      <td>0</td>\n",
       "    </tr>\n",
       "    <tr>\n",
       "      <th>3</th>\n",
       "      <td>TCGA-3C-AALJ</td>\n",
       "      <td>TCGA-3C-AALJ-01Z-00-DX2.62DFE56B-B84C-40F9-962...</td>\n",
       "      <td>62.0</td>\n",
       "      <td>3C</td>\n",
       "      <td>48.42</td>\n",
       "      <td>1.0</td>\n",
       "      <td>1.0</td>\n",
       "      <td>IDC</td>\n",
       "      <td>1.0</td>\n",
       "      <td>0</td>\n",
       "      <td>...</td>\n",
       "      <td>0</td>\n",
       "      <td>0</td>\n",
       "      <td>0</td>\n",
       "      <td>0</td>\n",
       "      <td>0</td>\n",
       "      <td>0</td>\n",
       "      <td>1</td>\n",
       "      <td>0</td>\n",
       "      <td>1</td>\n",
       "      <td>0</td>\n",
       "    </tr>\n",
       "    <tr>\n",
       "      <th>4</th>\n",
       "      <td>TCGA-3C-AALK</td>\n",
       "      <td>TCGA-3C-AALK-01Z-00-DX1.4E6EB156-BB19-410F-878...</td>\n",
       "      <td>52.0</td>\n",
       "      <td>3C</td>\n",
       "      <td>47.57</td>\n",
       "      <td>1.0</td>\n",
       "      <td>1.0</td>\n",
       "      <td>IDC</td>\n",
       "      <td>1.0</td>\n",
       "      <td>0</td>\n",
       "      <td>...</td>\n",
       "      <td>1</td>\n",
       "      <td>0</td>\n",
       "      <td>0</td>\n",
       "      <td>0</td>\n",
       "      <td>0</td>\n",
       "      <td>0</td>\n",
       "      <td>0</td>\n",
       "      <td>0</td>\n",
       "      <td>0</td>\n",
       "      <td>0</td>\n",
       "    </tr>\n",
       "  </tbody>\n",
       "</table>\n",
       "<p>5 rows × 30 columns</p>\n",
       "</div>"
      ],
      "text/plain": [
       "        case_id                                           slide_id   age site  \\\n",
       "0  TCGA-3C-AALI  TCGA-3C-AALI-01Z-00-DX1.F6E9A5DF-D8FB-45CF-B4B...  50.0   3C   \n",
       "1  TCGA-3C-AALI  TCGA-3C-AALI-01Z-00-DX2.CF4496E0-AB52-4F3E-BDF...  50.0   3C   \n",
       "2  TCGA-3C-AALJ  TCGA-3C-AALJ-01Z-00-DX1.777C0957-255A-42F0-9EE...  62.0   3C   \n",
       "3  TCGA-3C-AALJ  TCGA-3C-AALJ-01Z-00-DX2.62DFE56B-B84C-40F9-962...  62.0   3C   \n",
       "4  TCGA-3C-AALK  TCGA-3C-AALK-01Z-00-DX1.4E6EB156-BB19-410F-878...  52.0   3C   \n",
       "\n",
       "   survival_months  censorship  is_female oncotree_code  train  CDH1_mut  ...  \\\n",
       "0           131.57         1.0        1.0           IDC    1.0         0  ...   \n",
       "1           131.57         1.0        1.0           IDC    1.0         0  ...   \n",
       "2            48.42         1.0        1.0           IDC    1.0         0  ...   \n",
       "3            48.42         1.0        1.0           IDC    1.0         0  ...   \n",
       "4            47.57         1.0        1.0           IDC    1.0         0  ...   \n",
       "\n",
       "   PIK3CA_mut  PTEN_mut  RYR2_mut  SPTA1_mut  SYNE1_mut  TP53_mut  TTN_mut  \\\n",
       "0           0         0         1          1          0         1        1   \n",
       "1           0         0         1          1          0         1        1   \n",
       "2           0         0         0          0          0         0        1   \n",
       "3           0         0         0          0          0         0        1   \n",
       "4           1         0         0          0          0         0        0   \n",
       "\n",
       "   USH2A_mut  ZFHX4_mut  RAS_mut  \n",
       "0          0          1        0  \n",
       "1          0          1        0  \n",
       "2          0          1        0  \n",
       "3          0          1        0  \n",
       "4          0          0        0  \n",
       "\n",
       "[5 rows x 30 columns]"
      ]
     },
     "execution_count": 16,
     "metadata": {},
     "output_type": "execute_result"
    }
   ],
   "source": [
    "hipt_labels_csv_path = Path(hipt_dir, '2-Weakly-Supervised-Subtyping/dataset_csv/tcga_brca_subset.csv.zip')\n",
    "hipt_labels_df = pd.read_csv(hipt_labels_csv_path, index_col=0)\n",
    "hipt_labels_df.head()"
   ]
  },
  {
   "cell_type": "code",
   "execution_count": 17,
   "id": "6366f8d2-b050-4865-994a-a8bfc12d1b90",
   "metadata": {},
   "outputs": [
    {
     "data": {
      "text/plain": [
       "937"
      ]
     },
     "execution_count": 17,
     "metadata": {},
     "output_type": "execute_result"
    }
   ],
   "source": [
    "len(hipt_labels_df)"
   ]
  },
  {
   "cell_type": "code",
   "execution_count": 18,
   "id": "8cc3c034-72cc-4384-933b-b4fa964f46aa",
   "metadata": {},
   "outputs": [
    {
     "data": {
      "text/plain": [
       "937"
      ]
     },
     "execution_count": 18,
     "metadata": {},
     "output_type": "execute_result"
    }
   ],
   "source": [
    "hipt_labels_df['slide_id'].dropna().nunique()"
   ]
  },
  {
   "cell_type": "markdown",
   "id": "f12782b0-6259-44f6-acd0-44966e711106",
   "metadata": {},
   "source": [
    "why do we only have labels for **937** slides?"
   ]
  },
  {
   "cell_type": "code",
   "execution_count": 19,
   "id": "46e552b2-04d4-4b2a-a226-2288460b7d46",
   "metadata": {},
   "outputs": [],
   "source": [
    "# drop .tif from slide ids\n",
    "hipt_labels_df['slide_id'] = hipt_labels_df['slide_id'].apply(lambda x: Path(x).stem)"
   ]
  },
  {
   "cell_type": "code",
   "execution_count": 20,
   "id": "b3e121f2-852a-48ab-bfff-fdebb7f10792",
   "metadata": {},
   "outputs": [
    {
     "data": {
      "text/plain": [
       "IDC       726\n",
       "ILC       149\n",
       "MDLC       25\n",
       "IMMC       12\n",
       "MBC        11\n",
       "BRCA        5\n",
       "PD          3\n",
       "ACBC        2\n",
       "SPC         2\n",
       "BRCNOS      1\n",
       "MPT         1\n",
       "Name: oncotree_code, dtype: int64"
      ]
     },
     "execution_count": 20,
     "metadata": {},
     "output_type": "execute_result"
    }
   ],
   "source": [
    "hipt_labels_df.oncotree_code.value_counts(dropna=False)"
   ]
  },
  {
   "cell_type": "code",
   "execution_count": 21,
   "id": "7ad00a41-312b-4a6d-b51b-c5404f05d7f2",
   "metadata": {},
   "outputs": [
    {
     "data": {
      "text/plain": [
       "875"
      ]
     },
     "execution_count": 21,
     "metadata": {},
     "output_type": "execute_result"
    }
   ],
   "source": [
    "hipt_fold_labels_df = hipt_labels_df[hipt_labels_df['slide_id'].isin(hipt_brca)]\n",
    "hipt_fold_labels_df.slide_id.dropna().nunique()"
   ]
  },
  {
   "cell_type": "markdown",
   "id": "46721596-a7d4-403b-9280-a1216428aa2c",
   "metadata": {},
   "source": [
    "among the 937 slides for which we have labels, only **875** are used for training/tuning/testing<br>\n",
    "this is because we drop all labels that are not IDC or ILC"
   ]
  },
  {
   "cell_type": "code",
   "execution_count": 22,
   "id": "1f802d70-19be-4c2d-86e1-054654fdce27",
   "metadata": {},
   "outputs": [
    {
     "data": {
      "text/plain": [
       "IDC    726\n",
       "ILC    149\n",
       "Name: oncotree_code, dtype: int64"
      ]
     },
     "execution_count": 22,
     "metadata": {},
     "output_type": "execute_result"
    }
   ],
   "source": [
    "hipt_fold_labels_df.oncotree_code.value_counts(dropna=False)"
   ]
  },
  {
   "cell_type": "code",
   "execution_count": 23,
   "id": "730d153a-3f19-487e-a982-c6b46c010afe",
   "metadata": {},
   "outputs": [],
   "source": [
    "def map_otc_to_int(otc: str, missing_label: int = -1):\n",
    "    if otc == 'IDC':\n",
    "        return 0\n",
    "    elif otc == 'ILC':\n",
    "        return 1\n",
    "    else:\n",
    "        return missing_label"
   ]
  },
  {
   "cell_type": "code",
   "execution_count": 24,
   "id": "1e367187-1724-4148-bf05-e47e9f1c0eec",
   "metadata": {},
   "outputs": [],
   "source": [
    "hipt_fold_labels_df['label'] = hipt_fold_labels_df['oncotree_code'].apply(map_otc_to_int)"
   ]
  },
  {
   "cell_type": "markdown",
   "id": "8d25bfc9-8e1d-4084-aade-b229d116ec2a",
   "metadata": {},
   "source": [
    "### Get HIPT slide count per case_id"
   ]
  },
  {
   "cell_type": "code",
   "execution_count": 25,
   "id": "6f9d2108-8e1a-4945-a0bd-921624369a48",
   "metadata": {},
   "outputs": [
    {
     "data": {
      "text/plain": [
       "'TCGA-A7-A26H-01Z-00-DX1.3344CFD3-5A19-4B01-BEB2-AB89F83FD53A'"
      ]
     },
     "execution_count": 25,
     "metadata": {},
     "output_type": "execute_result"
    }
   ],
   "source": [
    "list(hipt_brca)[0]"
   ]
  },
  {
   "cell_type": "code",
   "execution_count": 26,
   "id": "6c607c80-ed08-48c6-829b-7235579d12f1",
   "metadata": {},
   "outputs": [
    {
     "data": {
      "text/plain": [
       "'TCGA-A7-A26H'"
      ]
     },
     "execution_count": 26,
     "metadata": {},
     "output_type": "execute_result"
    }
   ],
   "source": [
    "def extract_case_id_from_slide_id(slide_id):\n",
    "    return '-'.join(slide_id.split('-')[:3])\n",
    "\n",
    "extract_case_id_from_slide_id(list(hipt_brca)[0])"
   ]
  },
  {
   "cell_type": "code",
   "execution_count": 27,
   "id": "e63b0f76-6be3-4017-ad18-185ca8a52185",
   "metadata": {},
   "outputs": [
    {
     "data": {
      "text/plain": [
       "(1041, 977)"
      ]
     },
     "execution_count": 27,
     "metadata": {},
     "output_type": "execute_result"
    }
   ],
   "source": [
    "hipt_brca_case_ids = [extract_case_id_from_slide_id(s) for s in hipt_brca]\n",
    "len(hipt_brca_case_ids), len(set(hipt_brca_case_ids))"
   ]
  },
  {
   "cell_type": "markdown",
   "id": "2272856a-2009-4af6-bbbd-c4111843a3aa",
   "metadata": {},
   "source": [
    "Hence, we have some slides mapped to the same case ids"
   ]
  },
  {
   "cell_type": "code",
   "execution_count": 28,
   "id": "4311cdd7-7134-413a-a291-215817944a9a",
   "metadata": {},
   "outputs": [
    {
     "data": {
      "text/markdown": [
       "there are **59** case ids mapped to 2+ slides"
      ],
      "text/plain": [
       "<IPython.core.display.Markdown object>"
      ]
     },
     "execution_count": 28,
     "metadata": {},
     "output_type": "execute_result"
    }
   ],
   "source": [
    "duplicated_hipt_brca_case_ids = set([c for c in hipt_brca_case_ids if hipt_brca_case_ids.count(c) > 1])\n",
    "md(f'there are **{len(duplicated_hipt_brca_case_ids)}** case ids mapped to 2+ slides')"
   ]
  },
  {
   "cell_type": "code",
   "execution_count": 29,
   "id": "08b8936a-c942-4ba2-8bb1-5c3b6aaf1188",
   "metadata": {},
   "outputs": [
    {
     "data": {
      "text/html": [
       "<div>\n",
       "<style scoped>\n",
       "    .dataframe tbody tr th:only-of-type {\n",
       "        vertical-align: middle;\n",
       "    }\n",
       "\n",
       "    .dataframe tbody tr th {\n",
       "        vertical-align: top;\n",
       "    }\n",
       "\n",
       "    .dataframe thead th {\n",
       "        text-align: right;\n",
       "    }\n",
       "</style>\n",
       "<table border=\"1\" class=\"dataframe\">\n",
       "  <thead>\n",
       "    <tr style=\"text-align: right;\">\n",
       "      <th></th>\n",
       "      <th>case_id</th>\n",
       "      <th>nslide</th>\n",
       "    </tr>\n",
       "  </thead>\n",
       "  <tbody>\n",
       "    <tr>\n",
       "      <th>0</th>\n",
       "      <td>TCGA-C8-A26X</td>\n",
       "      <td>1</td>\n",
       "    </tr>\n",
       "    <tr>\n",
       "      <th>1</th>\n",
       "      <td>TCGA-GM-A4E0</td>\n",
       "      <td>1</td>\n",
       "    </tr>\n",
       "    <tr>\n",
       "      <th>2</th>\n",
       "      <td>TCGA-BH-A0HY</td>\n",
       "      <td>1</td>\n",
       "    </tr>\n",
       "    <tr>\n",
       "      <th>3</th>\n",
       "      <td>TCGA-D8-A27L</td>\n",
       "      <td>1</td>\n",
       "    </tr>\n",
       "    <tr>\n",
       "      <th>4</th>\n",
       "      <td>TCGA-A8-A07F</td>\n",
       "      <td>1</td>\n",
       "    </tr>\n",
       "  </tbody>\n",
       "</table>\n",
       "</div>"
      ],
      "text/plain": [
       "        case_id  nslide\n",
       "0  TCGA-C8-A26X       1\n",
       "1  TCGA-GM-A4E0       1\n",
       "2  TCGA-BH-A0HY       1\n",
       "3  TCGA-D8-A27L       1\n",
       "4  TCGA-A8-A07F       1"
      ]
     },
     "execution_count": 29,
     "metadata": {},
     "output_type": "execute_result"
    }
   ],
   "source": [
    "d = {'case_id': [], 'nslide': []}\n",
    "for case_id in set(hipt_brca_case_ids):\n",
    "    d['case_id'].append(case_id)\n",
    "    d['nslide'].append(hipt_brca_case_ids.count(case_id))\n",
    "tmp = pd.DataFrame.from_dict(d)\n",
    "tmp.head()"
   ]
  },
  {
   "cell_type": "code",
   "execution_count": 30,
   "id": "df75b722-6c66-406f-8b9e-76ec2dc71161",
   "metadata": {},
   "outputs": [
    {
     "data": {
      "text/plain": [
       "1041"
      ]
     },
     "execution_count": 30,
     "metadata": {},
     "output_type": "execute_result"
    }
   ],
   "source": [
    "tmp.nslide.sum()"
   ]
  },
  {
   "cell_type": "code",
   "execution_count": 31,
   "id": "1714dc85-44d5-4886-9a3d-fce5aad07ee7",
   "metadata": {},
   "outputs": [
    {
     "data": {
      "image/png": "[encoded data removed]",
      "text/plain": [
       "<Figure size 432x288 with 1 Axes>"
      ]
     },
     "metadata": {
      "needs_background": "light"
     },
     "output_type": "display_data"
    }
   ],
   "source": [
    "ax = sns.countplot(data=tmp, x='nslide')\n",
    "ax.bar_label(ax.containers[0], padding=5)\n",
    "plt.xlabel('# slide')\n",
    "plt.ylabel('# case')\n",
    "plt.ylim(0,1000)\n",
    "plt.show()"
   ]
  },
  {
   "cell_type": "markdown",
   "id": "4e9734ff-f73c-437b-b852-87c6c293f386",
   "metadata": {},
   "source": [
    "Investigate labels when multiple slides available"
   ]
  },
  {
   "cell_type": "code",
   "execution_count": 32,
   "id": "af847b83-eb1a-42a8-a533-5a7dd4ad3425",
   "metadata": {},
   "outputs": [
    {
     "data": {
      "text/plain": [
       "IDC    78\n",
       "ILC    12\n",
       "Name: oncotree_code, dtype: int64"
      ]
     },
     "execution_count": 32,
     "metadata": {},
     "output_type": "execute_result"
    }
   ],
   "source": [
    "tmp = hipt_fold_labels_df[hipt_fold_labels_df['case_id'].isin(duplicated_hipt_brca_case_ids)]\n",
    "tmp.oncotree_code.value_counts(dropna=False)"
   ]
  },
  {
   "cell_type": "markdown",
   "id": "a3bae5a9-4c83-4c22-be48-4464f4b5a40e",
   "metadata": {},
   "source": [
    "question: is there a case_id whith 2+ slides whose labels are different?"
   ]
  },
  {
   "cell_type": "code",
   "execution_count": 33,
   "id": "e45797e8-ee04-4081-b8de-363d1fa5d45a",
   "metadata": {},
   "outputs": [
    {
     "data": {
      "text/html": [
       "<div>\n",
       "<style scoped>\n",
       "    .dataframe tbody tr th:only-of-type {\n",
       "        vertical-align: middle;\n",
       "    }\n",
       "\n",
       "    .dataframe tbody tr th {\n",
       "        vertical-align: top;\n",
       "    }\n",
       "\n",
       "    .dataframe thead th {\n",
       "        text-align: right;\n",
       "    }\n",
       "</style>\n",
       "<table border=\"1\" class=\"dataframe\">\n",
       "  <thead>\n",
       "    <tr style=\"text-align: right;\">\n",
       "      <th></th>\n",
       "      <th>case_id</th>\n",
       "      <th>multiple_labels</th>\n",
       "    </tr>\n",
       "  </thead>\n",
       "  <tbody>\n",
       "    <tr>\n",
       "      <th>0</th>\n",
       "      <td>TCGA-3C-AALI</td>\n",
       "      <td>False</td>\n",
       "    </tr>\n",
       "    <tr>\n",
       "      <th>1</th>\n",
       "      <td>TCGA-3C-AALJ</td>\n",
       "      <td>False</td>\n",
       "    </tr>\n",
       "    <tr>\n",
       "      <th>2</th>\n",
       "      <td>TCGA-A7-A0CD</td>\n",
       "      <td>False</td>\n",
       "    </tr>\n",
       "    <tr>\n",
       "      <th>3</th>\n",
       "      <td>TCGA-A7-A0CE</td>\n",
       "      <td>False</td>\n",
       "    </tr>\n",
       "    <tr>\n",
       "      <th>4</th>\n",
       "      <td>TCGA-A7-A0CH</td>\n",
       "      <td>False</td>\n",
       "    </tr>\n",
       "  </tbody>\n",
       "</table>\n",
       "</div>"
      ],
      "text/plain": [
       "        case_id  multiple_labels\n",
       "0  TCGA-3C-AALI            False\n",
       "1  TCGA-3C-AALJ            False\n",
       "2  TCGA-A7-A0CD            False\n",
       "3  TCGA-A7-A0CE            False\n",
       "4  TCGA-A7-A0CH            False"
      ]
     },
     "execution_count": 33,
     "metadata": {},
     "output_type": "execute_result"
    }
   ],
   "source": [
    "tmp_df = (tmp.groupby('case_id')['oncotree_code'].nunique() > 1).reset_index()\n",
    "tmp_df = tmp_df.rename(columns={'oncotree_code': 'multiple_labels'})\n",
    "tmp_df.head()"
   ]
  },
  {
   "cell_type": "code",
   "execution_count": 34,
   "id": "b543ed34-0e3f-4dcd-89da-37487a94f8b7",
   "metadata": {},
   "outputs": [
    {
     "data": {
      "text/plain": [
       "0"
      ]
     },
     "execution_count": 34,
     "metadata": {},
     "output_type": "execute_result"
    }
   ],
   "source": [
    "tmp = tmp_df[tmp_df['multiple_labels'] == True]\n",
    "len(set(tmp.case_id))"
   ]
  },
  {
   "cell_type": "markdown",
   "id": "d4cd2903-ae5e-4df0-9535-c03c5fe0c9a3",
   "metadata": {},
   "source": [
    "answer is **no**<br>\n",
    "to extract some information from this, we'd need to know how these labels were actually curated<br>\n",
    "e.g. whether patient/case level label was replicated for each slide (when 2+ slides available)"
   ]
  },
  {
   "cell_type": "markdown",
   "id": "7a9eb63a-5e97-4793-aea1-2f3c03cfa11f",
   "metadata": {},
   "source": [
    "### Wrapping up"
   ]
  },
  {
   "cell_type": "code",
   "execution_count": 35,
   "id": "39e6107c-fb23-4042-a260-70efeba17f4b",
   "metadata": {},
   "outputs": [
    {
     "data": {
      "text/plain": [
       "(837, 875)"
      ]
     },
     "execution_count": 35,
     "metadata": {},
     "output_type": "execute_result"
    }
   ],
   "source": [
    "hipt_fold_labels_df.case_id.dropna().nunique(), hipt_fold_labels_df.slide_id.dropna().nunique()"
   ]
  },
  {
   "cell_type": "markdown",
   "id": "432e80a6-6e72-4607-82f4-b9a9c830a508",
   "metadata": {},
   "source": [
    "if one sticks to their _labeled_ dataset: **837** patients mapped to **875** slides"
   ]
  },
  {
   "cell_type": "code",
   "execution_count": 36,
   "id": "14d38f3e-b1b0-4041-9337-207ac286e022",
   "metadata": {},
   "outputs": [
    {
     "data": {
      "text/plain": [
       "875"
      ]
     },
     "execution_count": 36,
     "metadata": {},
     "output_type": "execute_result"
    }
   ],
   "source": [
    "# how many of these 875 slides are missing on the cluster?\n",
    "\n",
    "hipt_brca_labeled = set(hipt_fold_labels_df.slide_id.dropna().tolist())\n",
    "len(hipt_brca_labeled)"
   ]
  },
  {
   "cell_type": "code",
   "execution_count": 37,
   "id": "87121dd8-1024-4f43-812c-8f4b2a4739a2",
   "metadata": {},
   "outputs": [
    {
     "name": "stdout",
     "output_type": "stream",
     "text": [
      "875/875\n"
     ]
    }
   ],
   "source": [
    "intersection_hipt_labeled_blissey = hipt_brca_labeled.intersection(blissey_brca)\n",
    "print(f'{len(intersection_hipt_labeled_blissey)}/{len(hipt_brca_labeled)}')"
   ]
  },
  {
   "cell_type": "markdown",
   "id": "b098f194-031d-49c4-b675-177b9cefb159",
   "metadata": {},
   "source": [
    "From HIPT github repo ([see here](https://github.com/mahmoodlab/HIPT/issues/6#issuecomment-1175792504)):\n",
    "\n",
    "> Files under `HIPT/2-Weakly-Supervised-Subtyping/dataset_csv/` contain the total list of WSIs evaluated. Though there are more patients included in the `10foldcv_subtype/tcga_brca/split_{i}.csv` split, patients with insufficient tissue content for patching at the 4K-level and are thus missing in the pt_files-type folder, get excluded / masked out when slicing the dataframe. I should update the split csv files to clarify this confusion."
   ]
  },
  {
   "cell_type": "markdown",
   "id": "8ae1917a-79ec-4227-bd85-d082101937a8",
   "metadata": {},
   "source": [
    "Issues Watchlist:\n",
    "\n",
    "- https://github.com/mahmoodlab/HIPT/issues/11 has GDC manifest text files\n",
    "- https://github.com/mahmoodlab/HIPT/issues/16 question regarding BRCA subtyping labels"
   ]
  },
  {
   "cell_type": "markdown",
   "id": "1eb5ffae-4a80-486c-be07-4b90cf5118dd",
   "metadata": {},
   "source": [
    "Dump slide filenames in .txt file"
   ]
  },
  {
   "cell_type": "code",
   "execution_count": 38,
   "id": "a061071b-c3e4-45cc-a8be-227072ca96a0",
   "metadata": {},
   "outputs": [
    {
     "data": {
      "text/plain": [
       "'TCGA-A7-A26H-01Z-00-DX1.3344CFD3-5A19-4B01-BEB2-AB89F83FD53A'"
      ]
     },
     "execution_count": 38,
     "metadata": {},
     "output_type": "execute_result"
    }
   ],
   "source": [
    "list(hipt_brca_labeled)[0]"
   ]
  },
  {
   "cell_type": "code",
   "execution_count": 39,
   "id": "6d60e187-7e7e-4663-994a-5b8898ca5ae9",
   "metadata": {},
   "outputs": [],
   "source": [
    "with open(f'../tcga_brca.txt', 'w') as f:\n",
    "    for slide in hipt_brca_labeled:\n",
    "        f.write(f'{slide}.tif\\n')"
   ]
  },
  {
   "cell_type": "code",
   "execution_count": null,
   "id": "bf13ab50-2699-42fe-b763-f57b3b1fdab6",
   "metadata": {},
   "outputs": [],
   "source": []
  }
 ],
 "metadata": {
  "kernelspec": {
   "display_name": "Python 3 (ipykernel)",
   "language": "python",
   "name": "python3"
  },
  "language_info": {
   "codemirror_mode": {
    "name": "ipython",
    "version": 3
   },
   "file_extension": ".py",
   "mimetype": "text/x-python",
   "name": "python",
   "nbconvert_exporter": "python",
   "pygments_lexer": "ipython3",
   "version": "3.9.10"
  }
 },
 "nbformat": 4,
 "nbformat_minor": 5
}
